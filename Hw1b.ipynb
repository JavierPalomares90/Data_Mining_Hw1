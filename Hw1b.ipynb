{
 "cells": [
  {
   "cell_type": "markdown",
   "metadata": {},
   "source": [
    "# Javier Palomares Homework 1 b\n",
    "\n",
    "## Correlations\n",
    "\n",
    "When given a data matrix, an easy way to tell if any two columns are correlated is to look at a scatter plot of each column against each other column. For a warm up, do this: Look at the data in DF1 in HW1b Data.zip. Which columns are (pairwise) correlated? Figure out how to do this with Pandas, and also how to do this with Seaborn. "
   ]
  },
  {
   "cell_type": "code",
   "execution_count": 2,
   "metadata": {},
   "outputs": [
    {
     "name": "stdout",
     "output_type": "stream",
     "text": [
      "<class 'pandas.core.frame.DataFrame'>\n",
      "RangeIndex: 10001 entries, 0 to 10000\n",
      "Data columns (total 5 columns):\n",
      "0    10000 non-null float64\n",
      "1    10001 non-null float64\n",
      "2    10001 non-null float64\n",
      "3    10001 non-null float64\n",
      "4    10001 non-null float64\n",
      "dtypes: float64(5)\n",
      "memory usage: 390.7 KB\n",
      "<class 'pandas.core.frame.DataFrame'>\n",
      "RangeIndex: 10001 entries, 0 to 10000\n",
      "Data columns (total 3 columns):\n",
      "0    10000 non-null float64\n",
      "1    10001 non-null float64\n",
      "2    10001 non-null float64\n",
      "dtypes: float64(3)\n",
      "memory usage: 234.5 KB\n"
     ]
    }
   ],
   "source": [
    "df1FilePath=\"./DF1\"\n",
    "df2FilePath=\"./DF2\"\n",
    "\n",
    "import pandas as pd\n",
    "df1 = pd.read_csv(df1FilePath,header=None)\n",
    "df2 = pd.read_csv(df2FilePath,header=None)\n",
    "df1.info()\n",
    "df2.info()"
   ]
  },
  {
   "cell_type": "code",
   "execution_count": null,
   "metadata": {},
   "outputs": [],
   "source": []
  }
 ],
 "metadata": {
  "kernelspec": {
   "display_name": "Python 3",
   "language": "python",
   "name": "python3"
  },
  "language_info": {
   "codemirror_mode": {
    "name": "ipython",
    "version": 3
   },
   "file_extension": ".py",
   "mimetype": "text/x-python",
   "name": "python",
   "nbconvert_exporter": "python",
   "pygments_lexer": "ipython3",
   "version": "3.6.3"
  }
 },
 "nbformat": 4,
 "nbformat_minor": 2
}
