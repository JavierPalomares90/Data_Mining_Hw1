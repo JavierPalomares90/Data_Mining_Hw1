{
 "cells": [
  {
   "cell_type": "markdown",
   "metadata": {},
   "source": [
    "# Javier Palomares Homework 1 b\n",
    "\n",
    "## 1. Correlations\n",
    "\n",
    "* When given a data matrix, an easy way to tell if any two columns are correlated is to look at a scatter plot of each column against each other column. For a warm up, do this: Look at the data in DF1 in HW1b Data.zip."
   ]
  },
  {
   "cell_type": "code",
   "execution_count": 21,
   "metadata": {},
   "outputs": [
    {
     "name": "stdout",
     "output_type": "stream",
     "text": [
      "<class 'pandas.core.frame.DataFrame'>\n",
      "Int64Index: 10000 entries, 0 to 9999\n",
      "Data columns (total 4 columns):\n",
      "0    10000 non-null float64\n",
      "1    10000 non-null float64\n",
      "2    10000 non-null float64\n",
      "3    10000 non-null float64\n",
      "dtypes: float64(4)\n",
      "memory usage: 390.6 KB\n"
     ]
    },
    {
     "data": {
      "text/html": [
       "<div>\n",
       "<style scoped>\n",
       "    .dataframe tbody tr th:only-of-type {\n",
       "        vertical-align: middle;\n",
       "    }\n",
       "\n",
       "    .dataframe tbody tr th {\n",
       "        vertical-align: top;\n",
       "    }\n",
       "\n",
       "    .dataframe thead th {\n",
       "        text-align: right;\n",
       "    }\n",
       "</style>\n",
       "<table border=\"1\" class=\"dataframe\">\n",
       "  <thead>\n",
       "    <tr style=\"text-align: right;\">\n",
       "      <th></th>\n",
       "      <th>0</th>\n",
       "      <th>1</th>\n",
       "      <th>2</th>\n",
       "      <th>3</th>\n",
       "    </tr>\n",
       "  </thead>\n",
       "  <tbody>\n",
       "    <tr>\n",
       "      <th>count</th>\n",
       "      <td>10000.000000</td>\n",
       "      <td>10000.000000</td>\n",
       "      <td>10000.000000</td>\n",
       "      <td>10000.000000</td>\n",
       "    </tr>\n",
       "    <tr>\n",
       "      <th>mean</th>\n",
       "      <td>0.007704</td>\n",
       "      <td>0.009313</td>\n",
       "      <td>0.007586</td>\n",
       "      <td>-0.008455</td>\n",
       "    </tr>\n",
       "    <tr>\n",
       "      <th>std</th>\n",
       "      <td>1.000779</td>\n",
       "      <td>1.002686</td>\n",
       "      <td>1.000794</td>\n",
       "      <td>1.002581</td>\n",
       "    </tr>\n",
       "    <tr>\n",
       "      <th>min</th>\n",
       "      <td>-3.471566</td>\n",
       "      <td>-4.056024</td>\n",
       "      <td>-3.524182</td>\n",
       "      <td>-3.930215</td>\n",
       "    </tr>\n",
       "    <tr>\n",
       "      <th>25%</th>\n",
       "      <td>-0.663449</td>\n",
       "      <td>-0.663886</td>\n",
       "      <td>-0.666489</td>\n",
       "      <td>-0.697856</td>\n",
       "    </tr>\n",
       "    <tr>\n",
       "      <th>50%</th>\n",
       "      <td>0.017736</td>\n",
       "      <td>0.009027</td>\n",
       "      <td>0.012372</td>\n",
       "      <td>-0.007986</td>\n",
       "    </tr>\n",
       "    <tr>\n",
       "      <th>75%</th>\n",
       "      <td>0.667565</td>\n",
       "      <td>0.695943</td>\n",
       "      <td>0.672933</td>\n",
       "      <td>0.668582</td>\n",
       "    </tr>\n",
       "    <tr>\n",
       "      <th>max</th>\n",
       "      <td>3.854101</td>\n",
       "      <td>3.908736</td>\n",
       "      <td>3.608846</td>\n",
       "      <td>3.985592</td>\n",
       "    </tr>\n",
       "  </tbody>\n",
       "</table>\n",
       "</div>"
      ],
      "text/plain": [
       "                  0             1             2             3\n",
       "count  10000.000000  10000.000000  10000.000000  10000.000000\n",
       "mean       0.007704      0.009313      0.007586     -0.008455\n",
       "std        1.000779      1.002686      1.000794      1.002581\n",
       "min       -3.471566     -4.056024     -3.524182     -3.930215\n",
       "25%       -0.663449     -0.663886     -0.666489     -0.697856\n",
       "50%        0.017736      0.009027      0.012372     -0.007986\n",
       "75%        0.667565      0.695943      0.672933      0.668582\n",
       "max        3.854101      3.908736      3.608846      3.985592"
      ]
     },
     "execution_count": 21,
     "metadata": {},
     "output_type": "execute_result"
    }
   ],
   "source": [
    "df1FilePath=\"./DF1\"\n",
    "df2FilePath=\"./DF2\"\n",
    "\n",
    "import pandas as pd\n",
    "df1 = pd.read_csv(df1FilePath,index_col=0)\n",
    "df2 = pd.read_csv(df2FilePath,index_col=0)\n",
    "df1.info()\n",
    "df1.describe()"
   ]
  },
  {
   "cell_type": "markdown",
   "metadata": {},
   "source": [
    " Which columns are (pairwise) correlated? Figure out how to do this with Pandas, and also how to do this with Seaborn. "
   ]
  },
  {
   "cell_type": "code",
   "execution_count": 37,
   "metadata": {},
   "outputs": [
    {
     "data": {
      "text/html": [
       "<div>\n",
       "<style scoped>\n",
       "    .dataframe tbody tr th:only-of-type {\n",
       "        vertical-align: middle;\n",
       "    }\n",
       "\n",
       "    .dataframe tbody tr th {\n",
       "        vertical-align: top;\n",
       "    }\n",
       "\n",
       "    .dataframe thead th {\n",
       "        text-align: right;\n",
       "    }\n",
       "</style>\n",
       "<table border=\"1\" class=\"dataframe\">\n",
       "  <thead>\n",
       "    <tr style=\"text-align: right;\">\n",
       "      <th></th>\n",
       "      <th>0</th>\n",
       "      <th>1</th>\n",
       "      <th>2</th>\n",
       "      <th>3</th>\n",
       "    </tr>\n",
       "  </thead>\n",
       "  <tbody>\n",
       "    <tr>\n",
       "      <th>0</th>\n",
       "      <td>1.000000</td>\n",
       "      <td>-0.003998</td>\n",
       "      <td>0.990066</td>\n",
       "      <td>0.004111</td>\n",
       "    </tr>\n",
       "    <tr>\n",
       "      <th>1</th>\n",
       "      <td>-0.003998</td>\n",
       "      <td>1.000000</td>\n",
       "      <td>-0.004085</td>\n",
       "      <td>-0.990235</td>\n",
       "    </tr>\n",
       "    <tr>\n",
       "      <th>2</th>\n",
       "      <td>0.990066</td>\n",
       "      <td>-0.004085</td>\n",
       "      <td>1.000000</td>\n",
       "      <td>0.004067</td>\n",
       "    </tr>\n",
       "    <tr>\n",
       "      <th>3</th>\n",
       "      <td>0.004111</td>\n",
       "      <td>-0.990235</td>\n",
       "      <td>0.004067</td>\n",
       "      <td>1.000000</td>\n",
       "    </tr>\n",
       "  </tbody>\n",
       "</table>\n",
       "</div>"
      ],
      "text/plain": [
       "          0         1         2         3\n",
       "0  1.000000 -0.003998  0.990066  0.004111\n",
       "1 -0.003998  1.000000 -0.004085 -0.990235\n",
       "2  0.990066 -0.004085  1.000000  0.004067\n",
       "3  0.004111 -0.990235  0.004067  1.000000"
      ]
     },
     "execution_count": 37,
     "metadata": {},
     "output_type": "execute_result"
    }
   ],
   "source": [
    "df1.corr()"
   ]
  },
  {
   "cell_type": "markdown",
   "metadata": {},
   "source": [
    "Using pandas, we see that columns at position 0 and position 2 are correlated, and columns at position 1 and 3 are negatively correlated"
   ]
  },
  {
   "cell_type": "code",
   "execution_count": 38,
   "metadata": {
    "scrolled": true
   },
   "outputs": [
    {
     "data": {
      "text/plain": [
       "<matplotlib.axes._subplots.AxesSubplot at 0x7f64166a2a58>"
      ]
     },
     "execution_count": 38,
     "metadata": {},
     "output_type": "execute_result"
    },
    {
     "data": {
      "image/png": "[encoded data removed]",
      "text/plain": [
       "<Figure size 432x288 with 2 Axes>"
      ]
     },
     "metadata": {},
     "output_type": "display_data"
    }
   ],
   "source": [
    "import seaborn as sns\n",
    "import numpy as np\n",
    "import matplotlib.pyplot as plt\n",
    "sns.set(style='white')\n",
    "corr1 = df1.corr()\n",
    "\n",
    "# Generate a mask for the upper triangle\n",
    "mask = np.zeros_like(corr1, dtype=np.bool)\n",
    "mask[np.triu_indices_from(mask)] = True\n",
    "# Set up the matplotlib figure\n",
    "f, ax = plt.subplots();\n",
    "\n",
    "# Generate a custom diverging colorma# Generate a custom diverging colormap\n",
    "cmap = sns.diverging_palette(220, 10, as_cmap=True)\n",
    "# Draw the heatmap with the mask and correct aspect ratio\n",
    "sns.heatmap(corr1, mask=mask, cmap=cmap, vmax=1.0, center=0,\n",
    "            square=True, linewidths=.5, cbar_kws={\"shrink\": .5})"
   ]
  },
  {
   "cell_type": "markdown",
   "metadata": {},
   "source": [
    "Using seaborn, I can see the correlation between columns 0 and 2, and the negative correlation between columns 1 and 3"
   ]
  },
  {
   "cell_type": "markdown",
   "metadata": {},
   "source": [
    "* Compute the covariance matrix of the data. Write the explicit expression for what this\n",
    "is, and then use any command you like (e.g., np.cov) to compute the 4 × 4 matrix.\n",
    "Explain why the numbers that you get fit with the plots you got."
   ]
  },
  {
   "cell_type": "markdown",
   "metadata": {},
   "source": [
    "Let DF1 have size $n \\times n$.\n",
    "Let $x_i$ be the i-th column of DF1 and $x_i[j]$ be the j-th component of $x_i$.  \n",
    "Note that columns of DF1 have $n$ components.\n",
    "Let $\\mu_i$ be the mean of $x_i$ and let $\\sigma^2$ be the variance of $x_i$.  \n",
    "Then the $i,j$ entry of the covariance matrix is given by:\n",
    "\n",
    "$cov_{ij} =  \\frac{1}{n} \\sum_{k=1}^{n} (x_i[k] - \\mu_i)(x_j[k] - \\mu_j) $"
   ]
  },
  {
   "cell_type": "code",
   "execution_count": 39,
   "metadata": {},
   "outputs": [
    {
     "data": {
      "text/html": [
       "<div>\n",
       "<style scoped>\n",
       "    .dataframe tbody tr th:only-of-type {\n",
       "        vertical-align: middle;\n",
       "    }\n",
       "\n",
       "    .dataframe tbody tr th {\n",
       "        vertical-align: top;\n",
       "    }\n",
       "\n",
       "    .dataframe thead th {\n",
       "        text-align: right;\n",
       "    }\n",
       "</style>\n",
       "<table border=\"1\" class=\"dataframe\">\n",
       "  <thead>\n",
       "    <tr style=\"text-align: right;\">\n",
       "      <th></th>\n",
       "      <th>0</th>\n",
       "      <th>1</th>\n",
       "      <th>2</th>\n",
       "      <th>3</th>\n",
       "    </tr>\n",
       "  </thead>\n",
       "  <tbody>\n",
       "    <tr>\n",
       "      <th>0</th>\n",
       "      <td>1.001558</td>\n",
       "      <td>-0.004012</td>\n",
       "      <td>0.991624</td>\n",
       "      <td>0.004125</td>\n",
       "    </tr>\n",
       "    <tr>\n",
       "      <th>1</th>\n",
       "      <td>-0.004012</td>\n",
       "      <td>1.005378</td>\n",
       "      <td>-0.004099</td>\n",
       "      <td>-0.995457</td>\n",
       "    </tr>\n",
       "    <tr>\n",
       "      <th>2</th>\n",
       "      <td>0.991624</td>\n",
       "      <td>-0.004099</td>\n",
       "      <td>1.001589</td>\n",
       "      <td>0.004081</td>\n",
       "    </tr>\n",
       "    <tr>\n",
       "      <th>3</th>\n",
       "      <td>0.004125</td>\n",
       "      <td>-0.995457</td>\n",
       "      <td>0.004081</td>\n",
       "      <td>1.005168</td>\n",
       "    </tr>\n",
       "  </tbody>\n",
       "</table>\n",
       "</div>"
      ],
      "text/plain": [
       "          0         1         2         3\n",
       "0  1.001558 -0.004012  0.991624  0.004125\n",
       "1 -0.004012  1.005378 -0.004099 -0.995457\n",
       "2  0.991624 -0.004099  1.001589  0.004081\n",
       "3  0.004125 -0.995457  0.004081  1.005168"
      ]
     },
     "execution_count": 39,
     "metadata": {},
     "output_type": "execute_result"
    }
   ],
   "source": [
    "df1.cov()"
   ]
  },
  {
   "cell_type": "markdown",
   "metadata": {},
   "source": [
    "The values in the covariance matrix are consistent with the values in the correlation as they differ by a normalization factor."
   ]
  },
  {
   "cell_type": "markdown",
   "metadata": {},
   "source": [
    "* The above problem in reverse. Generate a zero-mean multivariate Gaussian random\n",
    "variable in 3 dimensions, Z = (X1, X2, X3) so that (X1, X2) and (X1, X3) are uncorrelated, but (X2, X3) are correlated. Specifically: choose a covariance matrix that has the\n",
    "above correlations structure, and write this down. Then find a way to generate samples\n",
    "from this Gaussian. Choose one of the non-zero covariance terms (Cij , if C denotes\n",
    "your covariance matrix) and plot it vs the estimated covariance term, as the number of\n",
    "samples you use scales. The goal is to get a visual representation of how the empirical\n",
    "covariance converges to the true (or family) covariance."
   ]
  },
  {
   "cell_type": "code",
   "execution_count": 79,
   "metadata": {},
   "outputs": [],
   "source": [
    "def estimateGaussianCov(mean,cov,numSamples,i,j):\n",
    "    x = np.random.multivariate_normal(mean, cov,numSamples).T\n",
    "    estCov = np.cov(x)\n",
    "    c_ij = estCov[i][j]\n",
    "    error = c_ij - cov[i][j]\n",
    "    return error\n",
    "\n",
    "mean = [0,0,0]\n",
    "cov = [[1,0,0],[0,1,.99],[0,.99,1]]\n",
    "#c_1,2 is non zero\n",
    "i = 1\n",
    "j = 2\n",
    "numSamples = list(range(10,10000000,100000))\n",
    "err = np.zeros(len(numSamples))\n",
    "for k in range(len(numSamples)):\n",
    "    n = numSamples[k]\n",
    "    err[k] = estimateGaussianCov(mean,cov,n,i,j)"
   ]
  },
  {
   "cell_type": "code",
   "execution_count": 85,
   "metadata": {},
   "outputs": [
    {
     "data": {
      "image/png": "[encoded data removed]",
      "text/plain": [
       "<Figure size 432x288 with 1 Axes>"
      ]
     },
     "metadata": {},
     "output_type": "display_data"
    }
   ],
   "source": [
    "err = abs(err)\n",
    "plt.semilogy(numSamples,err)\n",
    "plt.title(\"True covariance minus estimated\")\n",
    "plt.grid(True)\n",
    "plt.xlabel(\"Number of samples\")\n",
    "plt.ylabel(\"Absolute value of error\")\n",
    "plt.show()"
   ]
  },
  {
   "cell_type": "markdown",
   "metadata": {},
   "source": [
    "## 2. Outliers\n",
    "Consider the two-dimensional data in DF2 in HW1b Data.zip. Look at a scatter\n",
    "plot of the data. It contains two points that look like potential outliers. Which one is “more”\n",
    "outlying? Propose a transformation of the data that makes it clear that the point at (−1, 1)\n",
    "is more outlying than the point at (5.5, 5), even though the latter point is“farther away”\n",
    "from the nearest points. Plot the data again after performing this transformation. Provide\n",
    "discussion as appropriate to justify your choice of transformation. Hint: if $y$ comes from a\n",
    "standard Gaussian in two dimensions (i.e., with covariance equal to the two by two identity\n",
    "matrix), and\n",
    "$$\n",
    "Q=\n",
    "\\begin{pmatrix}\n",
    "2 & \\frac{1}{2}\\\\\n",
    "\\frac{1}{2} & 2\n",
    "\\end{pmatrix}\n",
    "$$\n",
    "what is the covariance matrix of the random variable $z = Qy$?If you are given $z$, how would\n",
    "you create a random Gaussian vector with covariance equal to the identity, using z?\n"
   ]
  },
  {
   "cell_type": "code",
   "execution_count": 34,
   "metadata": {},
   "outputs": [
    {
     "name": "stdout",
     "output_type": "stream",
     "text": [
      "<class 'pandas.core.frame.DataFrame'>\n",
      "Int64Index: 10000 entries, 0 to 9999\n",
      "Data columns (total 2 columns):\n",
      "0    10000 non-null float64\n",
      "1    10000 non-null float64\n",
      "dtypes: float64(2)\n",
      "memory usage: 234.4 KB\n"
     ]
    },
    {
     "data": {
      "text/html": [
       "<div>\n",
       "<style scoped>\n",
       "    .dataframe tbody tr th:only-of-type {\n",
       "        vertical-align: middle;\n",
       "    }\n",
       "\n",
       "    .dataframe tbody tr th {\n",
       "        vertical-align: top;\n",
       "    }\n",
       "\n",
       "    .dataframe thead th {\n",
       "        text-align: right;\n",
       "    }\n",
       "</style>\n",
       "<table border=\"1\" class=\"dataframe\">\n",
       "  <thead>\n",
       "    <tr style=\"text-align: right;\">\n",
       "      <th></th>\n",
       "      <th>0</th>\n",
       "      <th>1</th>\n",
       "    </tr>\n",
       "  </thead>\n",
       "  <tbody>\n",
       "    <tr>\n",
       "      <th>count</th>\n",
       "      <td>10000.000000</td>\n",
       "      <td>10000.000000</td>\n",
       "    </tr>\n",
       "    <tr>\n",
       "      <th>mean</th>\n",
       "      <td>0.008139</td>\n",
       "      <td>0.008169</td>\n",
       "    </tr>\n",
       "    <tr>\n",
       "      <th>std</th>\n",
       "      <td>1.002321</td>\n",
       "      <td>1.002078</td>\n",
       "    </tr>\n",
       "    <tr>\n",
       "      <th>min</th>\n",
       "      <td>-3.471566</td>\n",
       "      <td>-3.524182</td>\n",
       "    </tr>\n",
       "    <tr>\n",
       "      <th>25%</th>\n",
       "      <td>-0.663686</td>\n",
       "      <td>-0.666489</td>\n",
       "    </tr>\n",
       "    <tr>\n",
       "      <th>50%</th>\n",
       "      <td>0.017736</td>\n",
       "      <td>0.012527</td>\n",
       "    </tr>\n",
       "    <tr>\n",
       "      <th>75%</th>\n",
       "      <td>0.667909</td>\n",
       "      <td>0.673805</td>\n",
       "    </tr>\n",
       "    <tr>\n",
       "      <th>max</th>\n",
       "      <td>5.500000</td>\n",
       "      <td>5.000000</td>\n",
       "    </tr>\n",
       "  </tbody>\n",
       "</table>\n",
       "</div>"
      ],
      "text/plain": [
       "                  0             1\n",
       "count  10000.000000  10000.000000\n",
       "mean       0.008139      0.008169\n",
       "std        1.002321      1.002078\n",
       "min       -3.471566     -3.524182\n",
       "25%       -0.663686     -0.666489\n",
       "50%        0.017736      0.012527\n",
       "75%        0.667909      0.673805\n",
       "max        5.500000      5.000000"
      ]
     },
     "execution_count": 34,
     "metadata": {},
     "output_type": "execute_result"
    }
   ],
   "source": [
    "df2.info()\n",
    "df2.describe()"
   ]
  },
  {
   "cell_type": "code",
   "execution_count": 46,
   "metadata": {},
   "outputs": [
    {
     "data": {
      "text/plain": [
       "<matplotlib.axes._subplots.AxesSubplot at 0x7f6416731080>"
      ]
     },
     "execution_count": 46,
     "metadata": {},
     "output_type": "execute_result"
    },
    {
     "data": {
      "image/png": "[encoded data removed]",
      "text/plain": [
       "<Figure size 432x288 with 1 Axes>"
      ]
     },
     "metadata": {},
     "output_type": "display_data"
    }
   ],
   "source": [
    "df2.plot.scatter(x=0,y=1,c='DarkBlue')"
   ]
  },
  {
   "cell_type": "code",
   "execution_count": 104,
   "metadata": {},
   "outputs": [],
   "source": [
    "Q = [[2,1/2],[1/2,2]]\n",
    "Q_inv = np.linalg.inv(Q)"
   ]
  },
  {
   "cell_type": "code",
   "execution_count": 110,
   "metadata": {},
   "outputs": [],
   "source": [
    "test = np.dot(Q_inv,df2.T).T"
   ]
  },
  {
   "cell_type": "code",
   "execution_count": 111,
   "metadata": {},
   "outputs": [
    {
     "data": {
      "image/png": "[encoded data removed]",
      "text/plain": [
       "<Figure size 432x288 with 1 Axes>"
      ]
     },
     "metadata": {},
     "output_type": "display_data"
    }
   ],
   "source": [
    "plt.scatter(test[:,0],test[:,1])\n",
    "plt.show()"
   ]
  },
  {
   "cell_type": "code",
   "execution_count": 102,
   "metadata": {},
   "outputs": [
    {
     "data": {
      "text/plain": [
       "(10000, 2)"
      ]
     },
     "execution_count": 102,
     "metadata": {},
     "output_type": "execute_result"
    }
   ],
   "source": [
    "test.shape"
   ]
  },
  {
   "cell_type": "markdown",
   "metadata": {},
   "source": [
    "## 3. Even More Standard Error \n",
    "(This is to be completed only after you’ve completed the\n",
    "last written exercise below). In one of the written exercises below, you derive an expression\n",
    "1for what is called the Standard Error: where $\\beta$ denotes the “truth,” $\\hat{\\beta}$ denotes the value we\n",
    "compute using least squares linear regression, and $Z$ and $e$ are as in the exercise below, you\n",
    "find:\n",
    "$\\hat{\\beta} − \\beta = Ze$.\n",
    "If we know the distribution of the noise (the distribution generating the noise vectors, e i ),\n",
    "then we know the distribution for the error, ( $\\hat{\\beta} − \\beta$). This allows us to answer the question\n",
    "given in class: if we solve a regression and obtain value $\\hat{\\beta}$, how can we tell if it is statistically\n",
    "significant? The answer is: we compare the size of β̂ to the spread introduced by the noise\n",
    "(i.e., the standard error), and we ask: what is the likelihood that the true $\\beta = 0$, and what\n",
    "we observed was purely due to the noise.\n",
    "If the noise is Gaussian (normal), i.e., $e_i ∼ N(0, \\sigma^2 )$, and if the values of the $x_i$ are normalized,\n",
    "then we expect error of the size $\\frac{\\sigma}{\\sqrt{n}}$, as this is roughly the standard deviation of the\n",
    "expression for the error that you derive above. This means: if you have twice the data points,\n",
    "you should expect the error to be reduced by about 1.4 (the formula says that the standard\n",
    "deviation of the error would decrease by a factor of $1/\\sqrt{2}$).\n",
    "Compute this empirically, as follows: We will generate data for a regression problem, solve\n",
    "it, and see what the error is: Generate data as I did in the example from class: \n",
    "$x_i ∼ N (0, 1)$,\n",
    "$e i ∼ N (0, 1)$. Generate $y$ by $y_i = \\beta_0 + x_i\\beta + e_i$ , where $\\beta_0 = −3$ and $\\beta = 0$. Note that\n",
    "since  $\\beta = 0$, this means that y and x are unrelated! The question we are exploring here is as\n",
    "follows: when we solve a regression problem, we are not going to find  $\\hat{\\beta} = 0$ - we will find\n",
    "that $\\hat{\\beta}$ takes some other values, hopefully close to zero. How do we know if the value of $\\hat{\\beta}$ we\n",
    "get is statistically meaningful?"
   ]
  },
  {
   "cell_type": "code",
   "execution_count": null,
   "metadata": {},
   "outputs": [],
   "source": []
  },
  {
   "cell_type": "markdown",
   "metadata": {},
   "source": [
    "* By creating fresh data and each time computing $\\hat{\\beta}$ and recording $\\hat{\\beta}$ − $\\beta$, compute the\n",
    "empirical standard deviation of the error for n = 150 (the number we used in class). In\n",
    "class, in the exercise where I tried to find a linear regression of y vs. noise, we found\n",
    "$\\hat{\\beta}= −0.15$. Given your empirical computation of the standard deviation of the error,\n",
    "how significant is the value −0.15?"
   ]
  },
  {
   "cell_type": "code",
   "execution_count": null,
   "metadata": {},
   "outputs": [],
   "source": []
  },
  {
   "cell_type": "markdown",
   "metadata": {},
   "source": [
    "* Now repeat the above experiment for different values of n. Plot these values, and on the\n",
    "same plot, plot $1 / \\sqrt{n}$. How is the fit?"
   ]
  },
  {
   "cell_type": "code",
   "execution_count": null,
   "metadata": {},
   "outputs": [],
   "source": []
  },
  {
   "cell_type": "markdown",
   "metadata": {},
   "source": [
    "## Names and Frequencies\n",
    "The goal of this exercise is for you to get more experience with\n",
    "Pandas, and to get a chance to explore a cool data set. Download the file Names.zip from\n",
    "Canvas. This contains the frequency of all names that appeared more than 5 times on a social\n",
    "security application from 1880 through 2015"
   ]
  },
  {
   "cell_type": "markdown",
   "metadata": {},
   "source": [
    "* Write a program that on input k and XXXX, returns the top k names from year\n",
    "XXXX."
   ]
  },
  {
   "cell_type": "code",
   "execution_count": 46,
   "metadata": {
    "pixiedust": {
     "displayParams": {}
    }
   },
   "outputs": [],
   "source": [
    "import pandas as pd\n",
    "def topKNames(k,year):\n",
    "    # read the file containing the name frequency for the year\n",
    "    filepath = \"./Names/yob{}.txt\".format(year)\n",
    "    df = pd.read_csv(filepath,header=None)\n",
    "    # first column of the dataframe is the name, followed by the gender and last by the frequency\n",
    "    df.columns = ['name','gender','frequency']\n",
    "    # sort the dataframe by the frequency in descending order\n",
    "    df= df.sort_values(by='frequency',ascending=False)\n",
    "    # return the name of the  first k rows of the data\n",
    "    topKNames = df.iloc[0:k,0]\n",
    "    return topKNames.to_list()"
   ]
  },
  {
   "cell_type": "code",
   "execution_count": 62,
   "metadata": {},
   "outputs": [
    {
     "name": "stdout",
     "output_type": "stream",
     "text": [
      "['Michael', 'Christopher', 'Jessica', 'Ashley', 'Matthew', 'Joshua', 'Brittany']\n"
     ]
    }
   ],
   "source": [
    "print(topKNames(7,1990))"
   ]
  },
  {
   "cell_type": "markdown",
   "metadata": {},
   "source": [
    "* Write a program that on input Name returns the frequency for men and women of the\n",
    "name $Name$."
   ]
  },
  {
   "cell_type": "code",
   "execution_count": 101,
   "metadata": {},
   "outputs": [],
   "source": [
    "# find the frequency of a name in a year for men and women\n",
    "def freqMFNameByYear(name,year):\n",
    "    # read the file containing the name frequency for the year\n",
    "    filepath = \"./Names/yob{}.txt\".format(year)\n",
    "    df = pd.read_csv(filepath,header=None)\n",
    "    # first column of the dataframe is the name, followed by the gender and last by the frequency\n",
    "    df.columns = ['name','gender','frequency']\n",
    "    # find the rows for the give name using case insensitive comparison\n",
    "    rows = df.loc[df['name'].str.lower() == name.lower()]\n",
    "    # iterate over the rows\n",
    "    menFrequency = 0\n",
    "    womenFrequency = 0\n",
    "    for index,row in rows.iterrows():\n",
    "        if(row['gender'].lower() == 'm'):\n",
    "            menFrequency += row['frequency']\n",
    "        elif(row['gender'].lower() == 'f'):\n",
    "            womenFrequency += row['frequency']\n",
    "    return menFrequency,womenFrequency"
   ]
  },
  {
   "cell_type": "code",
   "execution_count": 105,
   "metadata": {},
   "outputs": [
    {
     "name": "stdout",
     "output_type": "stream",
     "text": [
      "239 men were named Ashley in 1990. 45553 women were named Ashley in 1990\n"
     ]
    }
   ],
   "source": [
    "men,women = freqMFNameByYear(\"Ashley\",1990)\n",
    "print(\"{} men were named Ashley in 1990. {} women were named Ashley in 1990\".format(men,women))"
   ]
  },
  {
   "cell_type": "markdown",
   "metadata": {},
   "source": [
    "* It could be that names are more diverse now than they were in 1880, so that a name may\n",
    "be relatively the most popular, though its frequency may have been decreasing over the\n",
    "years. Modify the above to return the relative frequency. Note that in the next coming\n",
    "lectures we will learn how to quantify diversity using entropy."
   ]
  },
  {
   "cell_type": "code",
   "execution_count": 136,
   "metadata": {},
   "outputs": [],
   "source": [
    "def getTotalMWFreqByYear(year):\n",
    "    filepath = \"./Names/yob{}.txt\".format(year)\n",
    "    df = pd.read_csv(filepath,header=None)\n",
    "     # first column of the dataframe is the name, followed by the gender and last by the frequency\n",
    "    df.columns = ['name','gender','frequency']\n",
    "    # find the total frequency for men and women\n",
    "    menTotal = df.loc[df['gender'].str.lower() == \"m\"]['frequency'].sum()\n",
    "    womenTotal = df.loc[df['gender'].str.lower() == \"f\"]['frequency'].sum() \n",
    "    return menTotal,womenTotal\n",
    "    \n",
    "# find the relative frequency of a name in a year for men and women\n",
    "def relFreqMFNameByYear(name,year):\n",
    "    # get the frequency of a name in a year for men and women\n",
    "    men,women = freqMFNameByYear(name,year)\n",
    "    menTotal,womenTotal = getTotalMWFreqByYear(year)\n",
    "    return men/menTotal,women/womenTotal"
   ]
  },
  {
   "cell_type": "code",
   "execution_count": 137,
   "metadata": {},
   "outputs": [
    {
     "name": "stdout",
     "output_type": "stream",
     "text": [
      "0.011643417182176121% of men were named Ashley in 1990. 2.40029676358028% of women were named Ashley in 1990\n"
     ]
    }
   ],
   "source": [
    "men,women = relFreqMFNameByYear(\"Ashley\",1990)\n",
    "print(\"{}% of men were named Ashley in 1990. {}% of women were named Ashley in 1990\".format(men*100,women*100))"
   ]
  },
  {
   "cell_type": "markdown",
   "metadata": {},
   "source": [
    "* Find all the names that used to be more popular for one gender, but then became more\n",
    "popular for another gender."
   ]
  },
  {
   "cell_type": "code",
   "execution_count": null,
   "metadata": {},
   "outputs": [],
   "source": [
    "# TODO: Finish this"
   ]
  },
  {
   "cell_type": "markdown",
   "metadata": {},
   "source": [
    "## Visualization Tools and Missing/Hidden Values\n",
    "Visualization is important both for\n",
    "exploring the data, as well as for explaining what you have done. There are a huge number\n",
    "of such tools now available. This exercise walks through various functionalities of matplotlib\n",
    "and pandas."
   ]
  },
  {
   "cell_type": "markdown",
   "metadata": {},
   "source": [
    "* The first part of this exercise was created by Dataquest. Run through the commands\n",
    "given in this tutorial: https://www.dataquest.io/blog/matplotlib-tutorial/ and understand the code."
   ]
  },
  {
   "cell_type": "markdown",
   "metadata": {},
   "source": [
    "### Exploring tweets with Pandas\n",
    "* Import the Pandas library.\n",
    "* Read tweets.csv into a Pandas DataFrame.\n",
    "* Print the first 5 rows of the DataFrame"
   ]
  },
  {
   "cell_type": "code",
   "execution_count": 1,
   "metadata": {},
   "outputs": [
    {
     "data": {
      "text/html": [
       "<div>\n",
       "<style scoped>\n",
       "    .dataframe tbody tr th:only-of-type {\n",
       "        vertical-align: middle;\n",
       "    }\n",
       "\n",
       "    .dataframe tbody tr th {\n",
       "        vertical-align: top;\n",
       "    }\n",
       "\n",
       "    .dataframe thead th {\n",
       "        text-align: right;\n",
       "    }\n",
       "</style>\n",
       "<table border=\"1\" class=\"dataframe\">\n",
       "  <thead>\n",
       "    <tr style=\"text-align: right;\">\n",
       "      <th></th>\n",
       "      <th>id</th>\n",
       "      <th>id_str</th>\n",
       "      <th>user_location</th>\n",
       "      <th>user_bg_color</th>\n",
       "      <th>retweet_count</th>\n",
       "      <th>user_name</th>\n",
       "      <th>polarity</th>\n",
       "      <th>created</th>\n",
       "      <th>geo</th>\n",
       "      <th>user_description</th>\n",
       "      <th>user_created</th>\n",
       "      <th>user_followers</th>\n",
       "      <th>coordinates</th>\n",
       "      <th>subjectivity</th>\n",
       "      <th>text</th>\n",
       "    </tr>\n",
       "  </thead>\n",
       "  <tbody>\n",
       "    <tr>\n",
       "      <th>0</th>\n",
       "      <td>1</td>\n",
       "      <td>729828033092149248</td>\n",
       "      <td>Wheeling WV</td>\n",
       "      <td>022330</td>\n",
       "      <td>0</td>\n",
       "      <td>Jaybo26003</td>\n",
       "      <td>0.00</td>\n",
       "      <td>2016-05-10T00:18:57</td>\n",
       "      <td>NaN</td>\n",
       "      <td>NaN</td>\n",
       "      <td>2011-11-17T02:45:42</td>\n",
       "      <td>39</td>\n",
       "      <td>NaN</td>\n",
       "      <td>0.0</td>\n",
       "      <td>Make a difference vote! WV Bernie Sanders Coul...</td>\n",
       "    </tr>\n",
       "    <tr>\n",
       "      <th>1</th>\n",
       "      <td>2</td>\n",
       "      <td>729828033092161537</td>\n",
       "      <td>NaN</td>\n",
       "      <td>C0DEED</td>\n",
       "      <td>0</td>\n",
       "      <td>brittttany_ns</td>\n",
       "      <td>0.15</td>\n",
       "      <td>2016-05-10T00:18:57</td>\n",
       "      <td>NaN</td>\n",
       "      <td>18 // PSJAN</td>\n",
       "      <td>2012-12-24T17:33:12</td>\n",
       "      <td>1175</td>\n",
       "      <td>NaN</td>\n",
       "      <td>0.1</td>\n",
       "      <td>RT @HlPHOPNEWS: T.I. says if Donald Trump wins...</td>\n",
       "    </tr>\n",
       "    <tr>\n",
       "      <th>2</th>\n",
       "      <td>3</td>\n",
       "      <td>729828033566224384</td>\n",
       "      <td>NaN</td>\n",
       "      <td>C0DEED</td>\n",
       "      <td>0</td>\n",
       "      <td>JeffriesLori</td>\n",
       "      <td>0.00</td>\n",
       "      <td>2016-05-10T00:18:57</td>\n",
       "      <td>NaN</td>\n",
       "      <td>NaN</td>\n",
       "      <td>2012-10-11T14:29:59</td>\n",
       "      <td>42</td>\n",
       "      <td>NaN</td>\n",
       "      <td>0.0</td>\n",
       "      <td>You have no one to blame but yourselves if Tru...</td>\n",
       "    </tr>\n",
       "    <tr>\n",
       "      <th>3</th>\n",
       "      <td>4</td>\n",
       "      <td>729828033893302272</td>\n",
       "      <td>global</td>\n",
       "      <td>C0DEED</td>\n",
       "      <td>0</td>\n",
       "      <td>WhorunsGOVs</td>\n",
       "      <td>0.00</td>\n",
       "      <td>2016-05-10T00:18:57</td>\n",
       "      <td>NaN</td>\n",
       "      <td>Get Latest Global Political news as they unfold</td>\n",
       "      <td>2014-02-16T07:34:24</td>\n",
       "      <td>290</td>\n",
       "      <td>NaN</td>\n",
       "      <td>0.0</td>\n",
       "      <td>'Ruin the rest of their lives': Donald Trump c...</td>\n",
       "    </tr>\n",
       "    <tr>\n",
       "      <th>4</th>\n",
       "      <td>5</td>\n",
       "      <td>729828034178482177</td>\n",
       "      <td>California, USA</td>\n",
       "      <td>131516</td>\n",
       "      <td>0</td>\n",
       "      <td>BJCG0830</td>\n",
       "      <td>0.00</td>\n",
       "      <td>2016-05-10T00:18:57</td>\n",
       "      <td>NaN</td>\n",
       "      <td>Queer Latino invoking his 1st amendment privil...</td>\n",
       "      <td>2009-03-21T01:43:26</td>\n",
       "      <td>354</td>\n",
       "      <td>NaN</td>\n",
       "      <td>0.0</td>\n",
       "      <td>RT @elianayjohnson: Per source, GOP megadonor ...</td>\n",
       "    </tr>\n",
       "  </tbody>\n",
       "</table>\n",
       "</div>"
      ],
      "text/plain": [
       "   id              id_str    user_location user_bg_color  retweet_count  \\\n",
       "0   1  729828033092149248      Wheeling WV        022330              0   \n",
       "1   2  729828033092161537              NaN        C0DEED              0   \n",
       "2   3  729828033566224384              NaN        C0DEED              0   \n",
       "3   4  729828033893302272           global        C0DEED              0   \n",
       "4   5  729828034178482177  California, USA        131516              0   \n",
       "\n",
       "       user_name  polarity              created  geo  \\\n",
       "0     Jaybo26003      0.00  2016-05-10T00:18:57  NaN   \n",
       "1  brittttany_ns      0.15  2016-05-10T00:18:57  NaN   \n",
       "2   JeffriesLori      0.00  2016-05-10T00:18:57  NaN   \n",
       "3    WhorunsGOVs      0.00  2016-05-10T00:18:57  NaN   \n",
       "4       BJCG0830      0.00  2016-05-10T00:18:57  NaN   \n",
       "\n",
       "                                    user_description         user_created  \\\n",
       "0                                                NaN  2011-11-17T02:45:42   \n",
       "1                                        18 // PSJAN  2012-12-24T17:33:12   \n",
       "2                                                NaN  2012-10-11T14:29:59   \n",
       "3    Get Latest Global Political news as they unfold  2014-02-16T07:34:24   \n",
       "4  Queer Latino invoking his 1st amendment privil...  2009-03-21T01:43:26   \n",
       "\n",
       "   user_followers coordinates  subjectivity  \\\n",
       "0              39         NaN           0.0   \n",
       "1            1175         NaN           0.1   \n",
       "2              42         NaN           0.0   \n",
       "3             290         NaN           0.0   \n",
       "4             354         NaN           0.0   \n",
       "\n",
       "                                                text  \n",
       "0  Make a difference vote! WV Bernie Sanders Coul...  \n",
       "1  RT @HlPHOPNEWS: T.I. says if Donald Trump wins...  \n",
       "2  You have no one to blame but yourselves if Tru...  \n",
       "3  'Ruin the rest of their lives': Donald Trump c...  \n",
       "4  RT @elianayjohnson: Per source, GOP megadonor ...  "
      ]
     },
     "execution_count": 1,
     "metadata": {},
     "output_type": "execute_result"
    }
   ],
   "source": [
    "import pandas as pd\n",
    "tweets = pd.read_csv(\"tweets.csv\")\n",
    "tweets.head()"
   ]
  },
  {
   "cell_type": "markdown",
   "metadata": {},
   "source": [
    "#### Generating a candidates column\n",
    "* Create a function that finds what candidate names occur in a piece of text.\n",
    "* Use the apply method on DataFrames to generate a new column called candidate that contains what candidate(s) the tweet mentions."
   ]
  },
  {
   "cell_type": "code",
   "execution_count": 140,
   "metadata": {},
   "outputs": [],
   "source": [
    "def get_candidate(row):\n",
    "    candidates = []\n",
    "    text = row[\"text\"].lower()\n",
    "    if \"clinton\" in text or \"hillary\" in text:\n",
    "        candidates.append(\"clinton\")\n",
    "    if \"trump\" in text or \"donald\" in text:\n",
    "        candidates.append(\"trump\")\n",
    "    if \"sanders\" in text or \"bernie\" in text:\n",
    "        candidates.append(\"sanders\")\n",
    "    return \",\".join(candidates)\n",
    "\n",
    "tweets[\"candidate\"] = tweets.apply(get_candidate,axis=1)"
   ]
  },
  {
   "cell_type": "markdown",
   "metadata": {},
   "source": [
    "### Making the first plot\n",
    "#### Importing matplotlib"
   ]
  },
  {
   "cell_type": "code",
   "execution_count": 141,
   "metadata": {},
   "outputs": [],
   "source": [
    "import matplotlib.pyplot as plt\n",
    "import numpy as np\n",
    "%matplotlib inline"
   ]
  },
  {
   "cell_type": "markdown",
   "metadata": {},
   "source": [
    "#### Making a bar plot\n",
    "* Use the value_counts method on Pandas Series to count up how many tweets mention each candidate.\n",
    "* Use plt.bar to create a bar plot. We'll pass in a list of numbers from 0 to the number of unique values in the candidate column as the x-axis input, and the counts as the y-axis input.\n",
    "* Display the counts so we have more context about what each bar represents."
   ]
  },
  {
   "cell_type": "code",
   "execution_count": 142,
   "metadata": {},
   "outputs": [
    {
     "data": {
      "image/png": "[encoded data removed]",
      "text/plain": [
       "<Figure size 432x288 with 1 Axes>"
      ]
     },
     "metadata": {
      "needs_background": "light"
     },
     "output_type": "display_data"
    },
    {
     "name": "stdout",
     "output_type": "stream",
     "text": [
      "trump                    119998\n",
      "clinton,trump             30521\n",
      "                          25429\n",
      "sanders                   25351\n",
      "clinton                   22746\n",
      "clinton,sanders            6044\n",
      "clinton,trump,sanders      4219\n",
      "trump,sanders              3172\n",
      "Name: candidate, dtype: int64\n"
     ]
    }
   ],
   "source": [
    "counts = tweets[\"candidate\"].value_counts()\n",
    "plt.bar(range(len(counts)), counts)\n",
    "plt.show()\n",
    "\n",
    "print(counts)"
   ]
  },
  {
   "cell_type": "markdown",
   "metadata": {},
   "source": [
    "### Customizing plots\n",
    "* Convert the created and user_created columns to the Pandas datetime type.\n",
    "* Create a user_age column that is the number of days since the account was created.\n",
    "* Create a histogram of user ages.\n",
    "* Show the histogram."
   ]
  },
  {
   "cell_type": "code",
   "execution_count": 143,
   "metadata": {},
   "outputs": [
    {
     "data": {
      "image/png": "[encoded data removed]",
      "text/plain": [
       "<Figure size 432x288 with 1 Axes>"
      ]
     },
     "metadata": {
      "needs_background": "light"
     },
     "output_type": "display_data"
    }
   ],
   "source": [
    "from datetime import datetime\n",
    "\n",
    "tweets[\"created\"] = pd.to_datetime(tweets[\"created\"])\n",
    "tweets[\"user_created\"] = pd.to_datetime(tweets[\"user_created\"])\n",
    "\n",
    "tweets[\"user_age\"] = tweets[\"user_created\"].apply(lambda x: (datetime.now() - x).total_seconds() / 3600 / 24 / 365)\n",
    "plt.hist(tweets[\"user_age\"])\n",
    "plt.show()"
   ]
  },
  {
   "cell_type": "markdown",
   "metadata": {},
   "source": [
    "#### Adding labels\n",
    "* Generate the same histogram we did before.\n",
    "* Draw a title onto the histogram.\n",
    "* Draw an x axis label onto the histogram.\n",
    "* Draw a y axis label onto the histogram.\n",
    "* Show the plot.\n"
   ]
  },
  {
   "cell_type": "code",
   "execution_count": 144,
   "metadata": {},
   "outputs": [
    {
     "data": {
      "image/png": "[encoded data removed]",
      "text/plain": [
       "<Figure size 432x288 with 1 Axes>"
      ]
     },
     "metadata": {
      "needs_background": "light"
     },
     "output_type": "display_data"
    }
   ],
   "source": [
    "plt.hist(tweets[\"user_age\"])\n",
    "plt.title(\"Tweets mentioning candidates\")\n",
    "plt.xlabel(\"Twitter account age in years\")\n",
    "plt.ylabel(\"# of tweets\")\n",
    "plt.show()"
   ]
  },
  {
   "cell_type": "markdown",
   "metadata": {},
   "source": [
    "#### Making a stacked histogram"
   ]
  },
  {
   "cell_type": "markdown",
   "metadata": {},
   "source": [
    "* Generate three Pandas series, each containing the user_age data only for tweets about a certain candidate.\n",
    "* Make a stacked histogram by calling the hist method with additional options.\n",
    "    * Specifying a list as the input will plot three sets of histogram bars.\n",
    "    * Specifying stacked=True will stack the three sets of bars.\n",
    "    * Adding the label option will generate the correct labels for the legend.\n",
    "* Call the plt.legend method to draw a legend in the top right corner.\n",
    "* Add a title, x axis, and y axis labels.\n",
    "* Show the plot."
   ]
  },
  {
   "cell_type": "code",
   "execution_count": 146,
   "metadata": {},
   "outputs": [
    {
     "data": {
      "image/png": "[encoded data removed]",
      "text/plain": [
       "<Figure size 432x288 with 1 Axes>"
      ]
     },
     "metadata": {
      "needs_background": "light"
     },
     "output_type": "display_data"
    }
   ],
   "source": [
    "cl_tweets = tweets[\"user_age\"][tweets[\"candidate\"] == \"clinton\"]\n",
    "sa_tweets = tweets[\"user_age\"][tweets[\"candidate\"] == \"sanders\"]\n",
    "tr_tweets = tweets[\"user_age\"][tweets[\"candidate\"] == \"trump\"]\n",
    "plt.hist([\n",
    "        cl_tweets, \n",
    "        sa_tweets, \n",
    "        tr_tweets\n",
    "    ], \n",
    "    stacked=True, \n",
    "    label=[\"clinton\", \"sanders\", \"trump\"]\n",
    ")\n",
    "plt.legend()\n",
    "plt.title(\"Tweets mentioning each candidate\")\n",
    "plt.xlabel(\"Twitter account age in years\")\n",
    "plt.ylabel(\"# of tweets\")\n",
    "plt.show()"
   ]
  },
  {
   "cell_type": "markdown",
   "metadata": {},
   "source": [
    "#### Annotating the histogram\n",
    "\n",
    "In the code below, we'll make the same histogram as we did above, but we'll call the plt.annotate method to add an annotation to the plot."
   ]
  },
  {
   "cell_type": "code",
   "execution_count": 167,
   "metadata": {},
   "outputs": [
    {
     "data": {
      "image/png": "[encoded data removed]",
      "text/plain": [
       "<Figure size 432x288 with 1 Axes>"
      ]
     },
     "metadata": {
      "needs_background": "light"
     },
     "output_type": "display_data"
    }
   ],
   "source": [
    "plt.hist([\n",
    "        cl_tweets, \n",
    "        sa_tweets, \n",
    "        tr_tweets\n",
    "    ], \n",
    "    stacked=True, \n",
    "    label=[\"clinton\", \"sanders\", \"trump\"]\n",
    ")\n",
    "plt.legend()\n",
    "plt.title(\"Tweets mentioning each candidate\")\n",
    "plt.xlabel(\"Twitter account age in years\")\n",
    "plt.ylabel(\"# of tweets\")\n",
    "plt.annotate('More Trump tweets', xy=(4, 35000), xytext=(7, 35000),\n",
    "            arrowprops=dict(facecolor='black'))\n",
    "plt.show()"
   ]
  },
  {
   "cell_type": "markdown",
   "metadata": {},
   "source": [
    "### Multiple subplots\n",
    "#### Extracting colors\n",
    "* Use the apply method to go through each row in the user_bg_color column, and extract how much red is in it.\n",
    "* Use the apply method to go through each row in the user_bg_color column, and extract how much blue is in it."
   ]
  },
  {
   "cell_type": "code",
   "execution_count": 168,
   "metadata": {},
   "outputs": [],
   "source": [
    "import matplotlib.colors as colors\n",
    "\n",
    "tweets[\"red\"] = tweets[\"user_bg_color\"].apply(lambda x: colors.hex2color('#{0}'.format(x))[0])\n",
    "tweets[\"blue\"] = tweets[\"user_bg_color\"].apply(lambda x: colors.hex2color('#{0}'.format(x))[2])"
   ]
  },
  {
   "cell_type": "markdown",
   "metadata": {},
   "source": [
    "#### Creating the plot\n",
    "* Generate a Figure and multiple Axes with the subplots method. The axes will be returned as an array.\n",
    "* The axes are returned in a 2x2 NumPy array. We extract each individual Axes object by using the flat property of arrays. This gives us 4 Axes objects we can work with.\n",
    "* Plot a histogram in the first Axes using the hist method.\n",
    "* Set the title of the first Axes to Red in all backgrounds using the set_title method. This performs the same function as plt.title.\n",
    "* Plot a histogram in the second Axes using the hist method.\n",
    "* Set the title of the second Axes to Red in Trump tweeters using the set_title method.\n",
    "* Plot a histogram in the third Axes using the hist method.\n",
    "* Set the title of the third Axes to Blue in all backgrounds using the set_title method. This performs the same function as plt.title.\n",
    "* Plot a histogram in the fourth Axes using the hist method.\n",
    "* Set the title of the fourth Axes to Blue in Trump tweeters using the set_title method.\n",
    "* Call the plt.tight_layout method to reduce padding in the graphs and fit all the elements.\n",
    "* Show the plot."
   ]
  },
  {
   "cell_type": "code",
   "execution_count": 169,
   "metadata": {},
   "outputs": [
    {
     "data": {
      "image/png": "[encoded data removed]",
      "text/plain": [
       "<Figure size 432x288 with 4 Axes>"
      ]
     },
     "metadata": {
      "needs_background": "light"
     },
     "output_type": "display_data"
    }
   ],
   "source": [
    "fig, axes = plt.subplots(nrows=2, ncols=2)\n",
    "ax0, ax1, ax2, ax3 = axes.flat\n",
    "\n",
    "ax0.hist(tweets[\"red\"])\n",
    "ax0.set_title('Red in backgrounds')\n",
    "\n",
    "ax1.hist(tweets[\"red\"][tweets[\"candidate\"] == \"trump\"].values)\n",
    "ax1.set_title('Red in Trump tweeters')\n",
    "\n",
    "ax2.hist(tweets[\"blue\"])\n",
    "ax2.set_title('Blue in backgrounds')\n",
    "\n",
    "ax3.hist(tweets[\"blue\"][tweets[\"candidate\"] == \"trump\"].values)\n",
    "ax3.set_title('Blue in Trump tweeters')\n",
    "\n",
    "plt.tight_layout()\n",
    "plt.show()"
   ]
  },
  {
   "cell_type": "markdown",
   "metadata": {},
   "source": [
    "#### Removing common background colors\n",
    "Here's how to find the most common colors in background colors:"
   ]
  },
  {
   "cell_type": "code",
   "execution_count": 171,
   "metadata": {},
   "outputs": [
    {
     "data": {
      "text/plain": [
       "C0DEED    108977\n",
       "000000     31119\n",
       "F5F8FA     25597\n",
       "131516      7731\n",
       "1A1B1F      5059\n",
       "022330      4300\n",
       "0099B9      3958\n",
       "642D8B      3767\n",
       "FFFFFF      3101\n",
       "9AE4E8      2651\n",
       "ACDED6      2383\n",
       "352726      2338\n",
       "C6E2EE      1978\n",
       "709397      1518\n",
       "EBEBEB      1475\n",
       "FF6699      1370\n",
       "BADFCD      1336\n",
       "FFF04D      1300\n",
       "EDECE9      1225\n",
       "B2DFDA      1218\n",
       "DBE9ED      1113\n",
       "ABB8C2      1101\n",
       "8B542B      1073\n",
       "3B94D9       623\n",
       "89C9FA       414\n",
       "DD2E44       351\n",
       "94D487       318\n",
       "4A913C       300\n",
       "9266CC       287\n",
       "F5ABB5       267\n",
       "           ...  \n",
       "BAE0F5         1\n",
       "FBFBFB         1\n",
       "F0488B         1\n",
       "D0DBE0         1\n",
       "878287         1\n",
       "13BEED         1\n",
       "233B47         1\n",
       "8A2D5F         1\n",
       "AA86B1         1\n",
       "C2CC31         1\n",
       "2028BD         1\n",
       "332524         1\n",
       "E50E06         1\n",
       "8A868A         1\n",
       "EAEBED         1\n",
       "FCA9FC         1\n",
       "993893         1\n",
       "C20E0E         1\n",
       "BF6F9C         1\n",
       "FF7105         1\n",
       "2288CC         1\n",
       "F38630         1\n",
       "09090A         1\n",
       "1F1A1E         1\n",
       "D9007E         1\n",
       "5590AD         1\n",
       "300030         1\n",
       "0B4C5F         1\n",
       "CCD6D6         1\n",
       "8F0E8F         1\n",
       "Name: user_bg_color, Length: 6970, dtype: int64"
      ]
     },
     "execution_count": 171,
     "metadata": {},
     "output_type": "execute_result"
    }
   ],
   "source": [
    "tweets[\"user_bg_color\"].value_counts()"
   ]
  },
  {
   "cell_type": "markdown",
   "metadata": {},
   "source": [
    "* Remove C0DEED, 000000, and F5F8FA from user_bg_color.\n",
    "* Create a function with out plotting logic from the last chart inside.\n",
    "* Plot the same 4 plots from before without the most common colors in user_bg_color."
   ]
  },
  {
   "cell_type": "code",
   "execution_count": 172,
   "metadata": {},
   "outputs": [
    {
     "data": {
      "image/png": "[encoded data removed]",
      "text/plain": [
       "<Figure size 432x288 with 4 Axes>"
      ]
     },
     "metadata": {
      "needs_background": "light"
     },
     "output_type": "display_data"
    }
   ],
   "source": [
    "tc = tweets[~tweets[\"user_bg_color\"].isin([\"C0DEED\", \"000000\", \"F5F8FA\"])]\n",
    "\n",
    "def create_plot(data):\n",
    "    fig, axes = plt.subplots(nrows=2, ncols=2)\n",
    "    ax0, ax1, ax2, ax3 = axes.flat\n",
    "\n",
    "    ax0.hist(data[\"red\"])\n",
    "    ax0.set_title('Red in backgrounds')\n",
    "\n",
    "    ax1.hist(data[\"red\"][data[\"candidate\"] == \"trump\"].values)\n",
    "    ax1.set_title('Red in Trump tweets')\n",
    "\n",
    "    ax2.hist(data[\"blue\"])\n",
    "    ax2.set_title('Blue in backgrounds')\n",
    "\n",
    "    ax3.hist(data[\"blue\"][data[\"candidate\"] == \"trump\"].values)\n",
    "    ax3.set_title('Blue in Trump tweeters')\n",
    "\n",
    "    plt.tight_layout()\n",
    "    plt.show()\n",
    "\n",
    "create_plot(tc)"
   ]
  },
  {
   "cell_type": "markdown",
   "metadata": {},
   "source": [
    "### Plotting sentiment\n",
    "* Group tweets by candidate, and compute the mean and standard deviation for each numerical column (including polarity).\n",
    "* Create a Figure that's 7 inches by 7 inches, with 2 Axes objects, arranged vertically.\n",
    "* Create a bar plot of the standard deviation the first Axes object.\n",
    "    * Set the tick labels using the set_xticklabels method, and rotate the labels 45 degrees using the rotation argument.\n",
    "    * Set the title.\n",
    "* Create a bar plot of the mean on the second Axes object.\n",
    "    * Set the tick labels.\n",
    "    * Set the title.\n",
    "* Show the plot."
   ]
  },
  {
   "cell_type": "code",
   "execution_count": 173,
   "metadata": {},
   "outputs": [
    {
     "data": {
      "image/png": "[encoded data removed]",
      "text/plain": [
       "<Figure size 504x504 with 2 Axes>"
      ]
     },
     "metadata": {
      "needs_background": "light"
     },
     "output_type": "display_data"
    }
   ],
   "source": [
    "gr = tweets.groupby(\"candidate\").agg([np.mean, np.std])\n",
    "\n",
    "fig, axes = plt.subplots(nrows=2, ncols=1, figsize=(7, 7))\n",
    "ax0, ax1 = axes.flat\n",
    "\n",
    "std = gr[\"polarity\"][\"std\"].iloc[1:]\n",
    "mean = gr[\"polarity\"][\"mean\"].iloc[1:]\n",
    "ax0.bar(range(len(std)), std)\n",
    "ax0.set_xticklabels(std.index, rotation=45)\n",
    "ax0.set_title('Standard deviation of tweet sentiment')\n",
    "\n",
    "ax1.bar(range(len(mean)), mean)\n",
    "ax1.set_xticklabels(mean.index, rotation=45)\n",
    "ax1.set_title('Mean tweet sentiment')\n",
    "\n",
    "plt.tight_layout()\n",
    "plt.show()"
   ]
  },
  {
   "cell_type": "markdown",
   "metadata": {},
   "source": [
    "### Generating a side by side bar plot\n",
    "\n",
    "#### Generating tweet lengths\n",
    "* Define a function to mark a tweet as short if it's less than 100 characters, medium if it's 100 to 135 characters, and long if it's over 135 characters.\n",
    "* Use apply to generate a new column tweet_length.\n",
    "* Figure out how many tweets by each candidate fall into each group."
   ]
  },
  {
   "cell_type": "code",
   "execution_count": 175,
   "metadata": {},
   "outputs": [],
   "source": [
    "def tweet_lengths(text):\n",
    "    if len(text) < 100:\n",
    "        return \"short\"\n",
    "    elif 100 <= len(text) <= 135:\n",
    "        return \"medium\"\n",
    "    else:\n",
    "        return \"long\"\n",
    "\n",
    "tweets[\"tweet_length\"] = tweets[\"text\"].apply(tweet_lengths)\n",
    "\n",
    "tl = {}\n",
    "for candidate in [\"clinton\", \"sanders\", \"trump\"]:\n",
    "    tl[candidate] = tweets[\"tweet_length\"][tweets[\"candidate\"] == candidate].value_counts()"
   ]
  },
  {
   "cell_type": "markdown",
   "metadata": {},
   "source": [
    "#### Plotting\n",
    "* Create a Figure and a single Axes object.\n",
    "* Define the width for each bar, .5.\n",
    "* Generate a sequence of values, x, that is 0, 2, 4. Each value is the start of a category, such as short, medium, and long. We put a distance of 2 between each category so we have space for multiple bars.\n",
    "* Plot clinton tweets on the Axes object, with the bars at the positions defined by x.\n",
    "* Plot sanders tweets on the Axes object, but add width to x to move the bars to the right.\n",
    "* Plot trump tweets on the Axes object, but add width * 2 to x to move the bars to the far right.\n",
    "* Set the axis labels and title.\n",
    "* Use set_xticks to move the tick labels to the center of each category area.\n",
    "* Set tick labels."
   ]
  },
  {
   "cell_type": "code",
   "execution_count": 177,
   "metadata": {},
   "outputs": [
    {
     "data": {
      "image/png": "[encoded data removed]",
      "text/plain": [
       "<Figure size 432x288 with 1 Axes>"
      ]
     },
     "metadata": {
      "needs_background": "light"
     },
     "output_type": "display_data"
    }
   ],
   "source": [
    "\n",
    "fig, ax = plt.subplots()\n",
    "width = .5\n",
    "x = np.array(range(0, 6, 2))\n",
    "ax.bar(x, tl[\"clinton\"], width, color='g')\n",
    "ax.bar(x + width, tl[\"sanders\"], width, color='b')\n",
    "ax.bar(x + (width * 2), tl[\"trump\"], width, color='r')\n",
    "\n",
    "ax.set_ylabel('# of tweets')\n",
    "ax.set_title('Number of Tweets per candidate by length')\n",
    "ax.set_xticks(x + (width * 1.5))\n",
    "ax.set_xticklabels(('long', 'medium', 'short'))\n",
    "ax.set_xlabel('Tweet length')\n",
    "plt.show()"
   ]
  },
  {
   "cell_type": "markdown",
   "metadata": {},
   "source": [
    "* Suppose that you would now like to plot some of the results by state. As you will see,\n",
    "the state information is sometimes missing, and other times it comes in varying forms.\n",
    "Figure out how to aggregate the results by state. The challenge here: how many of the\n",
    "tweets can you (correctly) assign to a state? Note: depending on how well you want to\n",
    "do (i.e., how many tweets you want to correctly assign to their state), this is not an easy\n",
    "problem!"
   ]
  },
  {
   "cell_type": "code",
   "execution_count": 53,
   "metadata": {},
   "outputs": [],
   "source": [
    "import json\n",
    "import reverse_geocoder as rg\n",
    "from geopy.geocoders import Nominatim\n",
    "import numpy as np\n",
    "\n",
    "geolocator = Nominatim(user_agent=\"Tweets_Analysis\")\n",
    "# the coordinates are given as a json string\n",
    "# parse the string into a dictionary\n",
    "def getCoordinates(geo):\n",
    "    g = json.loads(geo)\n",
    "    return g[\"coordinates\"]\n",
    "    \n",
    "def getStateFromCoord(coord):\n",
    "    location = rg.search(coord)\n",
    "    state = np.nan\n",
    "    if location:\n",
    "        state = location[0]['admin1']\n",
    "    return state\n",
    "\n",
    "def getStateFromLoc(loc):\n",
    "    location = geolocator.geocode(loc)\n",
    "    state = np.nan\n",
    "    if location: \n",
    "        coord = [location.latitude,location.longitude]\n",
    "        state = getStateFromCoord(coord)\n",
    "    return state\n",
    "\n",
    "def getState(row):\n",
    "    state = np.nan\n",
    "    # try to get the state from a geolocation\n",
    "    # or from the user's location\n",
    "    geo = row[\"geo\"]\n",
    "    loc = row[\"user_location\"]\n",
    "    # map the geolocation to a state\n",
    "    if(pd.isna(geo) == False):\n",
    "        coord = getCoordinates(geo)\n",
    "        state = getStateFromCoord(coord)\n",
    "    # map the location to a state\n",
    "    elif(pd.isna(loc) == False):\n",
    "        state = getStateFromLoc(loc)\n",
    "    return state"
   ]
  },
  {
   "cell_type": "code",
   "execution_count": 56,
   "metadata": {},
   "outputs": [
    {
     "ename": "GeocoderQuotaExceeded",
     "evalue": "('HTTP Error 429: Too Many Requests', 'occurred at index 573')",
     "output_type": "error",
     "traceback": [
      "\u001b[0;31m---------------------------------------------------------------------------\u001b[0m",
      "\u001b[0;31mHTTPError\u001b[0m                                 Traceback (most recent call last)",
      "\u001b[0;32m~/.local/lib/python3.6/site-packages/geopy/geocoders/base.py\u001b[0m in \u001b[0;36m_call_geocoder\u001b[0;34m(self, url, timeout, raw, requester, deserializer, **kwargs)\u001b[0m\n\u001b[1;32m    343\u001b[0m         \u001b[0;32mtry\u001b[0m\u001b[0;34m:\u001b[0m\u001b[0;34m\u001b[0m\u001b[0;34m\u001b[0m\u001b[0m\n\u001b[0;32m--> 344\u001b[0;31m             \u001b[0mpage\u001b[0m \u001b[0;34m=\u001b[0m \u001b[0mrequester\u001b[0m\u001b[0;34m(\u001b[0m\u001b[0mreq\u001b[0m\u001b[0;34m,\u001b[0m \u001b[0mtimeout\u001b[0m\u001b[0;34m=\u001b[0m\u001b[0mtimeout\u001b[0m\u001b[0;34m,\u001b[0m \u001b[0;34m**\u001b[0m\u001b[0mkwargs\u001b[0m\u001b[0;34m)\u001b[0m\u001b[0;34m\u001b[0m\u001b[0;34m\u001b[0m\u001b[0m\n\u001b[0m\u001b[1;32m    345\u001b[0m         \u001b[0;32mexcept\u001b[0m \u001b[0mException\u001b[0m \u001b[0;32mas\u001b[0m \u001b[0merror\u001b[0m\u001b[0;34m:\u001b[0m\u001b[0;34m\u001b[0m\u001b[0;34m\u001b[0m\u001b[0m\n",
      "\u001b[0;32m/usr/lib/python3.6/urllib/request.py\u001b[0m in \u001b[0;36mopen\u001b[0;34m(self, fullurl, data, timeout)\u001b[0m\n\u001b[1;32m    531\u001b[0m             \u001b[0mmeth\u001b[0m \u001b[0;34m=\u001b[0m \u001b[0mgetattr\u001b[0m\u001b[0;34m(\u001b[0m\u001b[0mprocessor\u001b[0m\u001b[0;34m,\u001b[0m \u001b[0mmeth_name\u001b[0m\u001b[0;34m)\u001b[0m\u001b[0;34m\u001b[0m\u001b[0;34m\u001b[0m\u001b[0m\n\u001b[0;32m--> 532\u001b[0;31m             \u001b[0mresponse\u001b[0m \u001b[0;34m=\u001b[0m \u001b[0mmeth\u001b[0m\u001b[0;34m(\u001b[0m\u001b[0mreq\u001b[0m\u001b[0;34m,\u001b[0m \u001b[0mresponse\u001b[0m\u001b[0;34m)\u001b[0m\u001b[0;34m\u001b[0m\u001b[0;34m\u001b[0m\u001b[0m\n\u001b[0m\u001b[1;32m    533\u001b[0m \u001b[0;34m\u001b[0m\u001b[0m\n",
      "\u001b[0;32m/usr/lib/python3.6/urllib/request.py\u001b[0m in \u001b[0;36mhttp_response\u001b[0;34m(self, request, response)\u001b[0m\n\u001b[1;32m    641\u001b[0m             response = self.parent.error(\n\u001b[0;32m--> 642\u001b[0;31m                 'http', request, response, code, msg, hdrs)\n\u001b[0m\u001b[1;32m    643\u001b[0m \u001b[0;34m\u001b[0m\u001b[0m\n",
      "\u001b[0;32m/usr/lib/python3.6/urllib/request.py\u001b[0m in \u001b[0;36merror\u001b[0;34m(self, proto, *args)\u001b[0m\n\u001b[1;32m    569\u001b[0m             \u001b[0margs\u001b[0m \u001b[0;34m=\u001b[0m \u001b[0;34m(\u001b[0m\u001b[0mdict\u001b[0m\u001b[0;34m,\u001b[0m \u001b[0;34m'default'\u001b[0m\u001b[0;34m,\u001b[0m \u001b[0;34m'http_error_default'\u001b[0m\u001b[0;34m)\u001b[0m \u001b[0;34m+\u001b[0m \u001b[0morig_args\u001b[0m\u001b[0;34m\u001b[0m\u001b[0;34m\u001b[0m\u001b[0m\n\u001b[0;32m--> 570\u001b[0;31m             \u001b[0;32mreturn\u001b[0m \u001b[0mself\u001b[0m\u001b[0;34m.\u001b[0m\u001b[0m_call_chain\u001b[0m\u001b[0;34m(\u001b[0m\u001b[0;34m*\u001b[0m\u001b[0margs\u001b[0m\u001b[0;34m)\u001b[0m\u001b[0;34m\u001b[0m\u001b[0;34m\u001b[0m\u001b[0m\n\u001b[0m\u001b[1;32m    571\u001b[0m \u001b[0;34m\u001b[0m\u001b[0m\n",
      "\u001b[0;32m/usr/lib/python3.6/urllib/request.py\u001b[0m in \u001b[0;36m_call_chain\u001b[0;34m(self, chain, kind, meth_name, *args)\u001b[0m\n\u001b[1;32m    503\u001b[0m             \u001b[0mfunc\u001b[0m \u001b[0;34m=\u001b[0m \u001b[0mgetattr\u001b[0m\u001b[0;34m(\u001b[0m\u001b[0mhandler\u001b[0m\u001b[0;34m,\u001b[0m \u001b[0mmeth_name\u001b[0m\u001b[0;34m)\u001b[0m\u001b[0;34m\u001b[0m\u001b[0;34m\u001b[0m\u001b[0m\n\u001b[0;32m--> 504\u001b[0;31m             \u001b[0mresult\u001b[0m \u001b[0;34m=\u001b[0m \u001b[0mfunc\u001b[0m\u001b[0;34m(\u001b[0m\u001b[0;34m*\u001b[0m\u001b[0margs\u001b[0m\u001b[0;34m)\u001b[0m\u001b[0;34m\u001b[0m\u001b[0;34m\u001b[0m\u001b[0m\n\u001b[0m\u001b[1;32m    505\u001b[0m             \u001b[0;32mif\u001b[0m \u001b[0mresult\u001b[0m \u001b[0;32mis\u001b[0m \u001b[0;32mnot\u001b[0m \u001b[0;32mNone\u001b[0m\u001b[0;34m:\u001b[0m\u001b[0;34m\u001b[0m\u001b[0;34m\u001b[0m\u001b[0m\n",
      "\u001b[0;32m/usr/lib/python3.6/urllib/request.py\u001b[0m in \u001b[0;36mhttp_error_default\u001b[0;34m(self, req, fp, code, msg, hdrs)\u001b[0m\n\u001b[1;32m    649\u001b[0m     \u001b[0;32mdef\u001b[0m \u001b[0mhttp_error_default\u001b[0m\u001b[0;34m(\u001b[0m\u001b[0mself\u001b[0m\u001b[0;34m,\u001b[0m \u001b[0mreq\u001b[0m\u001b[0;34m,\u001b[0m \u001b[0mfp\u001b[0m\u001b[0;34m,\u001b[0m \u001b[0mcode\u001b[0m\u001b[0;34m,\u001b[0m \u001b[0mmsg\u001b[0m\u001b[0;34m,\u001b[0m \u001b[0mhdrs\u001b[0m\u001b[0;34m)\u001b[0m\u001b[0;34m:\u001b[0m\u001b[0;34m\u001b[0m\u001b[0;34m\u001b[0m\u001b[0m\n\u001b[0;32m--> 650\u001b[0;31m         \u001b[0;32mraise\u001b[0m \u001b[0mHTTPError\u001b[0m\u001b[0;34m(\u001b[0m\u001b[0mreq\u001b[0m\u001b[0;34m.\u001b[0m\u001b[0mfull_url\u001b[0m\u001b[0;34m,\u001b[0m \u001b[0mcode\u001b[0m\u001b[0;34m,\u001b[0m \u001b[0mmsg\u001b[0m\u001b[0;34m,\u001b[0m \u001b[0mhdrs\u001b[0m\u001b[0;34m,\u001b[0m \u001b[0mfp\u001b[0m\u001b[0;34m)\u001b[0m\u001b[0;34m\u001b[0m\u001b[0;34m\u001b[0m\u001b[0m\n\u001b[0m\u001b[1;32m    651\u001b[0m \u001b[0;34m\u001b[0m\u001b[0m\n",
      "\u001b[0;31mHTTPError\u001b[0m: HTTP Error 429: Too Many Requests",
      "\nDuring handling of the above exception, another exception occurred:\n",
      "\u001b[0;31mGeocoderQuotaExceeded\u001b[0m                     Traceback (most recent call last)",
      "\u001b[0;32m<ipython-input-56-abb9ab66f436>\u001b[0m in \u001b[0;36m<module>\u001b[0;34m\u001b[0m\n\u001b[0;32m----> 1\u001b[0;31m \u001b[0mtweets\u001b[0m\u001b[0;34m[\u001b[0m\u001b[0;34m\"state\"\u001b[0m\u001b[0;34m]\u001b[0m \u001b[0;34m=\u001b[0m \u001b[0mtweets\u001b[0m\u001b[0;34m.\u001b[0m\u001b[0mapply\u001b[0m\u001b[0;34m(\u001b[0m\u001b[0mgetState\u001b[0m\u001b[0;34m,\u001b[0m\u001b[0maxis\u001b[0m\u001b[0;34m=\u001b[0m\u001b[0;36m1\u001b[0m\u001b[0;34m)\u001b[0m\u001b[0;34m\u001b[0m\u001b[0;34m\u001b[0m\u001b[0m\n\u001b[0m",
      "\u001b[0;32m~/.local/lib/python3.6/site-packages/pandas/core/frame.py\u001b[0m in \u001b[0;36mapply\u001b[0;34m(self, func, axis, broadcast, raw, reduce, result_type, args, **kwds)\u001b[0m\n\u001b[1;32m   6485\u001b[0m                          \u001b[0margs\u001b[0m\u001b[0;34m=\u001b[0m\u001b[0margs\u001b[0m\u001b[0;34m,\u001b[0m\u001b[0;34m\u001b[0m\u001b[0;34m\u001b[0m\u001b[0m\n\u001b[1;32m   6486\u001b[0m                          kwds=kwds)\n\u001b[0;32m-> 6487\u001b[0;31m         \u001b[0;32mreturn\u001b[0m \u001b[0mop\u001b[0m\u001b[0;34m.\u001b[0m\u001b[0mget_result\u001b[0m\u001b[0;34m(\u001b[0m\u001b[0;34m)\u001b[0m\u001b[0;34m\u001b[0m\u001b[0;34m\u001b[0m\u001b[0m\n\u001b[0m\u001b[1;32m   6488\u001b[0m \u001b[0;34m\u001b[0m\u001b[0m\n\u001b[1;32m   6489\u001b[0m     \u001b[0;32mdef\u001b[0m \u001b[0mapplymap\u001b[0m\u001b[0;34m(\u001b[0m\u001b[0mself\u001b[0m\u001b[0;34m,\u001b[0m \u001b[0mfunc\u001b[0m\u001b[0;34m)\u001b[0m\u001b[0;34m:\u001b[0m\u001b[0;34m\u001b[0m\u001b[0;34m\u001b[0m\u001b[0m\n",
      "\u001b[0;32m~/.local/lib/python3.6/site-packages/pandas/core/apply.py\u001b[0m in \u001b[0;36mget_result\u001b[0;34m(self)\u001b[0m\n\u001b[1;32m    149\u001b[0m             \u001b[0;32mreturn\u001b[0m \u001b[0mself\u001b[0m\u001b[0;34m.\u001b[0m\u001b[0mapply_raw\u001b[0m\u001b[0;34m(\u001b[0m\u001b[0;34m)\u001b[0m\u001b[0;34m\u001b[0m\u001b[0;34m\u001b[0m\u001b[0m\n\u001b[1;32m    150\u001b[0m \u001b[0;34m\u001b[0m\u001b[0m\n\u001b[0;32m--> 151\u001b[0;31m         \u001b[0;32mreturn\u001b[0m \u001b[0mself\u001b[0m\u001b[0;34m.\u001b[0m\u001b[0mapply_standard\u001b[0m\u001b[0;34m(\u001b[0m\u001b[0;34m)\u001b[0m\u001b[0;34m\u001b[0m\u001b[0;34m\u001b[0m\u001b[0m\n\u001b[0m\u001b[1;32m    152\u001b[0m \u001b[0;34m\u001b[0m\u001b[0m\n\u001b[1;32m    153\u001b[0m     \u001b[0;32mdef\u001b[0m \u001b[0mapply_empty_result\u001b[0m\u001b[0;34m(\u001b[0m\u001b[0mself\u001b[0m\u001b[0;34m)\u001b[0m\u001b[0;34m:\u001b[0m\u001b[0;34m\u001b[0m\u001b[0;34m\u001b[0m\u001b[0m\n",
      "\u001b[0;32m~/.local/lib/python3.6/site-packages/pandas/core/apply.py\u001b[0m in \u001b[0;36mapply_standard\u001b[0;34m(self)\u001b[0m\n\u001b[1;32m    255\u001b[0m \u001b[0;34m\u001b[0m\u001b[0m\n\u001b[1;32m    256\u001b[0m         \u001b[0;31m# compute the result using the series generator\u001b[0m\u001b[0;34m\u001b[0m\u001b[0;34m\u001b[0m\u001b[0;34m\u001b[0m\u001b[0m\n\u001b[0;32m--> 257\u001b[0;31m         \u001b[0mself\u001b[0m\u001b[0;34m.\u001b[0m\u001b[0mapply_series_generator\u001b[0m\u001b[0;34m(\u001b[0m\u001b[0;34m)\u001b[0m\u001b[0;34m\u001b[0m\u001b[0;34m\u001b[0m\u001b[0m\n\u001b[0m\u001b[1;32m    258\u001b[0m \u001b[0;34m\u001b[0m\u001b[0m\n\u001b[1;32m    259\u001b[0m         \u001b[0;31m# wrap results\u001b[0m\u001b[0;34m\u001b[0m\u001b[0;34m\u001b[0m\u001b[0;34m\u001b[0m\u001b[0m\n",
      "\u001b[0;32m~/.local/lib/python3.6/site-packages/pandas/core/apply.py\u001b[0m in \u001b[0;36mapply_series_generator\u001b[0;34m(self)\u001b[0m\n\u001b[1;32m    284\u001b[0m             \u001b[0;32mtry\u001b[0m\u001b[0;34m:\u001b[0m\u001b[0;34m\u001b[0m\u001b[0;34m\u001b[0m\u001b[0m\n\u001b[1;32m    285\u001b[0m                 \u001b[0;32mfor\u001b[0m \u001b[0mi\u001b[0m\u001b[0;34m,\u001b[0m \u001b[0mv\u001b[0m \u001b[0;32min\u001b[0m \u001b[0menumerate\u001b[0m\u001b[0;34m(\u001b[0m\u001b[0mseries_gen\u001b[0m\u001b[0;34m)\u001b[0m\u001b[0;34m:\u001b[0m\u001b[0;34m\u001b[0m\u001b[0;34m\u001b[0m\u001b[0m\n\u001b[0;32m--> 286\u001b[0;31m                     \u001b[0mresults\u001b[0m\u001b[0;34m[\u001b[0m\u001b[0mi\u001b[0m\u001b[0;34m]\u001b[0m \u001b[0;34m=\u001b[0m \u001b[0mself\u001b[0m\u001b[0;34m.\u001b[0m\u001b[0mf\u001b[0m\u001b[0;34m(\u001b[0m\u001b[0mv\u001b[0m\u001b[0;34m)\u001b[0m\u001b[0;34m\u001b[0m\u001b[0;34m\u001b[0m\u001b[0m\n\u001b[0m\u001b[1;32m    287\u001b[0m                     \u001b[0mkeys\u001b[0m\u001b[0;34m.\u001b[0m\u001b[0mappend\u001b[0m\u001b[0;34m(\u001b[0m\u001b[0mv\u001b[0m\u001b[0;34m.\u001b[0m\u001b[0mname\u001b[0m\u001b[0;34m)\u001b[0m\u001b[0;34m\u001b[0m\u001b[0;34m\u001b[0m\u001b[0m\n\u001b[1;32m    288\u001b[0m             \u001b[0;32mexcept\u001b[0m \u001b[0mException\u001b[0m \u001b[0;32mas\u001b[0m \u001b[0me\u001b[0m\u001b[0;34m:\u001b[0m\u001b[0;34m\u001b[0m\u001b[0;34m\u001b[0m\u001b[0m\n",
      "\u001b[0;32m<ipython-input-53-d5397d963b72>\u001b[0m in \u001b[0;36mgetState\u001b[0;34m(row)\u001b[0m\n\u001b[1;32m     38\u001b[0m     \u001b[0;31m# map the location to a state\u001b[0m\u001b[0;34m\u001b[0m\u001b[0;34m\u001b[0m\u001b[0;34m\u001b[0m\u001b[0m\n\u001b[1;32m     39\u001b[0m     \u001b[0;32melif\u001b[0m\u001b[0;34m(\u001b[0m\u001b[0mpd\u001b[0m\u001b[0;34m.\u001b[0m\u001b[0misna\u001b[0m\u001b[0;34m(\u001b[0m\u001b[0mloc\u001b[0m\u001b[0;34m)\u001b[0m \u001b[0;34m==\u001b[0m \u001b[0;32mFalse\u001b[0m\u001b[0;34m)\u001b[0m\u001b[0;34m:\u001b[0m\u001b[0;34m\u001b[0m\u001b[0;34m\u001b[0m\u001b[0m\n\u001b[0;32m---> 40\u001b[0;31m         \u001b[0mstate\u001b[0m \u001b[0;34m=\u001b[0m \u001b[0mgetStateFromLoc\u001b[0m\u001b[0;34m(\u001b[0m\u001b[0mloc\u001b[0m\u001b[0;34m)\u001b[0m\u001b[0;34m\u001b[0m\u001b[0;34m\u001b[0m\u001b[0m\n\u001b[0m\u001b[1;32m     41\u001b[0m     \u001b[0;32mreturn\u001b[0m \u001b[0mstate\u001b[0m\u001b[0;34m\u001b[0m\u001b[0;34m\u001b[0m\u001b[0m\n",
      "\u001b[0;32m<ipython-input-53-d5397d963b72>\u001b[0m in \u001b[0;36mgetStateFromLoc\u001b[0;34m(loc)\u001b[0m\n\u001b[1;32m     19\u001b[0m \u001b[0;34m\u001b[0m\u001b[0m\n\u001b[1;32m     20\u001b[0m \u001b[0;32mdef\u001b[0m \u001b[0mgetStateFromLoc\u001b[0m\u001b[0;34m(\u001b[0m\u001b[0mloc\u001b[0m\u001b[0;34m)\u001b[0m\u001b[0;34m:\u001b[0m\u001b[0;34m\u001b[0m\u001b[0;34m\u001b[0m\u001b[0m\n\u001b[0;32m---> 21\u001b[0;31m     \u001b[0mlocation\u001b[0m \u001b[0;34m=\u001b[0m \u001b[0mgeolocator\u001b[0m\u001b[0;34m.\u001b[0m\u001b[0mgeocode\u001b[0m\u001b[0;34m(\u001b[0m\u001b[0mloc\u001b[0m\u001b[0;34m)\u001b[0m\u001b[0;34m\u001b[0m\u001b[0;34m\u001b[0m\u001b[0m\n\u001b[0m\u001b[1;32m     22\u001b[0m     \u001b[0mstate\u001b[0m \u001b[0;34m=\u001b[0m \u001b[0mnp\u001b[0m\u001b[0;34m.\u001b[0m\u001b[0mnan\u001b[0m\u001b[0;34m\u001b[0m\u001b[0;34m\u001b[0m\u001b[0m\n\u001b[1;32m     23\u001b[0m     \u001b[0;32mif\u001b[0m \u001b[0mlocation\u001b[0m\u001b[0;34m:\u001b[0m\u001b[0;34m\u001b[0m\u001b[0;34m\u001b[0m\u001b[0m\n",
      "\u001b[0;32m~/.local/lib/python3.6/site-packages/geopy/geocoders/osm.py\u001b[0m in \u001b[0;36mgeocode\u001b[0;34m(self, query, exactly_one, timeout, limit, addressdetails, language, geometry, extratags)\u001b[0m\n\u001b[1;32m    307\u001b[0m \u001b[0;34m\u001b[0m\u001b[0m\n\u001b[1;32m    308\u001b[0m         return self._parse_json(\n\u001b[0;32m--> 309\u001b[0;31m             \u001b[0mself\u001b[0m\u001b[0;34m.\u001b[0m\u001b[0m_call_geocoder\u001b[0m\u001b[0;34m(\u001b[0m\u001b[0murl\u001b[0m\u001b[0;34m,\u001b[0m \u001b[0mtimeout\u001b[0m\u001b[0;34m=\u001b[0m\u001b[0mtimeout\u001b[0m\u001b[0;34m)\u001b[0m\u001b[0;34m,\u001b[0m \u001b[0mexactly_one\u001b[0m\u001b[0;34m\u001b[0m\u001b[0;34m\u001b[0m\u001b[0m\n\u001b[0m\u001b[1;32m    310\u001b[0m         )\n\u001b[1;32m    311\u001b[0m \u001b[0;34m\u001b[0m\u001b[0m\n",
      "\u001b[0;32m~/.local/lib/python3.6/site-packages/geopy/geocoders/base.py\u001b[0m in \u001b[0;36m_call_geocoder\u001b[0;34m(self, url, timeout, raw, requester, deserializer, **kwargs)\u001b[0m\n\u001b[1;32m    360\u001b[0m                                 exc_info=False)\n\u001b[1;32m    361\u001b[0m                 \u001b[0;32mtry\u001b[0m\u001b[0;34m:\u001b[0m\u001b[0;34m\u001b[0m\u001b[0;34m\u001b[0m\u001b[0m\n\u001b[0;32m--> 362\u001b[0;31m                     \u001b[0;32mraise\u001b[0m \u001b[0mERROR_CODE_MAP\u001b[0m\u001b[0;34m[\u001b[0m\u001b[0mcode\u001b[0m\u001b[0;34m]\u001b[0m\u001b[0;34m(\u001b[0m\u001b[0mmessage\u001b[0m\u001b[0;34m)\u001b[0m\u001b[0;34m\u001b[0m\u001b[0;34m\u001b[0m\u001b[0m\n\u001b[0m\u001b[1;32m    363\u001b[0m                 \u001b[0;32mexcept\u001b[0m \u001b[0mKeyError\u001b[0m\u001b[0;34m:\u001b[0m\u001b[0;34m\u001b[0m\u001b[0;34m\u001b[0m\u001b[0m\n\u001b[1;32m    364\u001b[0m                     \u001b[0;32mraise\u001b[0m \u001b[0mGeocoderServiceError\u001b[0m\u001b[0;34m(\u001b[0m\u001b[0mmessage\u001b[0m\u001b[0;34m)\u001b[0m\u001b[0;34m\u001b[0m\u001b[0;34m\u001b[0m\u001b[0m\n",
      "\u001b[0;31mGeocoderQuotaExceeded\u001b[0m: ('HTTP Error 429: Too Many Requests', 'occurred at index 573')"
     ]
    }
   ],
   "source": [
    "tweets[\"state\"] = tweets.apply(getState,axis=1)"
   ]
  },
  {
   "cell_type": "code",
   "execution_count": 182,
   "metadata": {},
   "outputs": [
    {
     "data": {
      "text/plain": [
       "True"
      ]
     },
     "execution_count": 182,
     "metadata": {},
     "output_type": "execute_result"
    }
   ],
   "source": []
  },
  {
   "cell_type": "code",
   "execution_count": 191,
   "metadata": {},
   "outputs": [],
   "source": [
    "row = tweets.iloc[0,:]"
   ]
  },
  {
   "cell_type": "code",
   "execution_count": 57,
   "metadata": {},
   "outputs": [
    {
     "data": {
      "text/html": [
       "<div>\n",
       "<style scoped>\n",
       "    .dataframe tbody tr th:only-of-type {\n",
       "        vertical-align: middle;\n",
       "    }\n",
       "\n",
       "    .dataframe tbody tr th {\n",
       "        vertical-align: top;\n",
       "    }\n",
       "\n",
       "    .dataframe thead th {\n",
       "        text-align: right;\n",
       "    }\n",
       "</style>\n",
       "<table border=\"1\" class=\"dataframe\">\n",
       "  <thead>\n",
       "    <tr style=\"text-align: right;\">\n",
       "      <th></th>\n",
       "      <th>id</th>\n",
       "      <th>id_str</th>\n",
       "      <th>user_location</th>\n",
       "      <th>user_bg_color</th>\n",
       "      <th>retweet_count</th>\n",
       "      <th>user_name</th>\n",
       "      <th>polarity</th>\n",
       "      <th>created</th>\n",
       "      <th>geo</th>\n",
       "      <th>user_description</th>\n",
       "      <th>user_created</th>\n",
       "      <th>user_followers</th>\n",
       "      <th>coordinates</th>\n",
       "      <th>subjectivity</th>\n",
       "      <th>text</th>\n",
       "    </tr>\n",
       "  </thead>\n",
       "  <tbody>\n",
       "    <tr>\n",
       "      <th>0</th>\n",
       "      <td>1</td>\n",
       "      <td>729828033092149248</td>\n",
       "      <td>Wheeling WV</td>\n",
       "      <td>022330</td>\n",
       "      <td>0</td>\n",
       "      <td>Jaybo26003</td>\n",
       "      <td>0.00</td>\n",
       "      <td>2016-05-10T00:18:57</td>\n",
       "      <td>NaN</td>\n",
       "      <td>NaN</td>\n",
       "      <td>2011-11-17T02:45:42</td>\n",
       "      <td>39</td>\n",
       "      <td>NaN</td>\n",
       "      <td>0.0</td>\n",
       "      <td>Make a difference vote! WV Bernie Sanders Coul...</td>\n",
       "    </tr>\n",
       "    <tr>\n",
       "      <th>1</th>\n",
       "      <td>2</td>\n",
       "      <td>729828033092161537</td>\n",
       "      <td>NaN</td>\n",
       "      <td>C0DEED</td>\n",
       "      <td>0</td>\n",
       "      <td>brittttany_ns</td>\n",
       "      <td>0.15</td>\n",
       "      <td>2016-05-10T00:18:57</td>\n",
       "      <td>NaN</td>\n",
       "      <td>18 // PSJAN</td>\n",
       "      <td>2012-12-24T17:33:12</td>\n",
       "      <td>1175</td>\n",
       "      <td>NaN</td>\n",
       "      <td>0.1</td>\n",
       "      <td>RT @HlPHOPNEWS: T.I. says if Donald Trump wins...</td>\n",
       "    </tr>\n",
       "    <tr>\n",
       "      <th>2</th>\n",
       "      <td>3</td>\n",
       "      <td>729828033566224384</td>\n",
       "      <td>NaN</td>\n",
       "      <td>C0DEED</td>\n",
       "      <td>0</td>\n",
       "      <td>JeffriesLori</td>\n",
       "      <td>0.00</td>\n",
       "      <td>2016-05-10T00:18:57</td>\n",
       "      <td>NaN</td>\n",
       "      <td>NaN</td>\n",
       "      <td>2012-10-11T14:29:59</td>\n",
       "      <td>42</td>\n",
       "      <td>NaN</td>\n",
       "      <td>0.0</td>\n",
       "      <td>You have no one to blame but yourselves if Tru...</td>\n",
       "    </tr>\n",
       "    <tr>\n",
       "      <th>3</th>\n",
       "      <td>4</td>\n",
       "      <td>729828033893302272</td>\n",
       "      <td>global</td>\n",
       "      <td>C0DEED</td>\n",
       "      <td>0</td>\n",
       "      <td>WhorunsGOVs</td>\n",
       "      <td>0.00</td>\n",
       "      <td>2016-05-10T00:18:57</td>\n",
       "      <td>NaN</td>\n",
       "      <td>Get Latest Global Political news as they unfold</td>\n",
       "      <td>2014-02-16T07:34:24</td>\n",
       "      <td>290</td>\n",
       "      <td>NaN</td>\n",
       "      <td>0.0</td>\n",
       "      <td>'Ruin the rest of their lives': Donald Trump c...</td>\n",
       "    </tr>\n",
       "    <tr>\n",
       "      <th>4</th>\n",
       "      <td>5</td>\n",
       "      <td>729828034178482177</td>\n",
       "      <td>California, USA</td>\n",
       "      <td>131516</td>\n",
       "      <td>0</td>\n",
       "      <td>BJCG0830</td>\n",
       "      <td>0.00</td>\n",
       "      <td>2016-05-10T00:18:57</td>\n",
       "      <td>NaN</td>\n",
       "      <td>Queer Latino invoking his 1st amendment privil...</td>\n",
       "      <td>2009-03-21T01:43:26</td>\n",
       "      <td>354</td>\n",
       "      <td>NaN</td>\n",
       "      <td>0.0</td>\n",
       "      <td>RT @elianayjohnson: Per source, GOP megadonor ...</td>\n",
       "    </tr>\n",
       "  </tbody>\n",
       "</table>\n",
       "</div>"
      ],
      "text/plain": [
       "   id              id_str    user_location user_bg_color  retweet_count  \\\n",
       "0   1  729828033092149248      Wheeling WV        022330              0   \n",
       "1   2  729828033092161537              NaN        C0DEED              0   \n",
       "2   3  729828033566224384              NaN        C0DEED              0   \n",
       "3   4  729828033893302272           global        C0DEED              0   \n",
       "4   5  729828034178482177  California, USA        131516              0   \n",
       "\n",
       "       user_name  polarity              created  geo  \\\n",
       "0     Jaybo26003      0.00  2016-05-10T00:18:57  NaN   \n",
       "1  brittttany_ns      0.15  2016-05-10T00:18:57  NaN   \n",
       "2   JeffriesLori      0.00  2016-05-10T00:18:57  NaN   \n",
       "3    WhorunsGOVs      0.00  2016-05-10T00:18:57  NaN   \n",
       "4       BJCG0830      0.00  2016-05-10T00:18:57  NaN   \n",
       "\n",
       "                                    user_description         user_created  \\\n",
       "0                                                NaN  2011-11-17T02:45:42   \n",
       "1                                        18 // PSJAN  2012-12-24T17:33:12   \n",
       "2                                                NaN  2012-10-11T14:29:59   \n",
       "3    Get Latest Global Political news as they unfold  2014-02-16T07:34:24   \n",
       "4  Queer Latino invoking his 1st amendment privil...  2009-03-21T01:43:26   \n",
       "\n",
       "   user_followers coordinates  subjectivity  \\\n",
       "0              39         NaN           0.0   \n",
       "1            1175         NaN           0.1   \n",
       "2              42         NaN           0.0   \n",
       "3             290         NaN           0.0   \n",
       "4             354         NaN           0.0   \n",
       "\n",
       "                                                text  \n",
       "0  Make a difference vote! WV Bernie Sanders Coul...  \n",
       "1  RT @HlPHOPNEWS: T.I. says if Donald Trump wins...  \n",
       "2  You have no one to blame but yourselves if Tru...  \n",
       "3  'Ruin the rest of their lives': Donald Trump c...  \n",
       "4  RT @elianayjohnson: Per source, GOP megadonor ...  "
      ]
     },
     "execution_count": 57,
     "metadata": {},
     "output_type": "execute_result"
    }
   ],
   "source": [
    "tweets.head()"
   ]
  },
  {
   "cell_type": "code",
   "execution_count": 219,
   "metadata": {},
   "outputs": [],
   "source": [
    "from geopy.geocoders import Nominatim"
   ]
  },
  {
   "cell_type": "code",
   "execution_count": 220,
   "metadata": {},
   "outputs": [],
   "source": [
    "geolocator = Nominatim(user_agent=\"Tweets_Analysis\")"
   ]
  },
  {
   "cell_type": "code",
   "execution_count": null,
   "metadata": {},
   "outputs": [],
   "source": [
    "location = geolocator.reverse(coord)"
   ]
  },
  {
   "cell_type": "code",
   "execution_count": null,
   "metadata": {},
   "outputs": [],
   "source": [
    "location"
   ]
  },
  {
   "cell_type": "code",
   "execution_count": 2,
   "metadata": {},
   "outputs": [],
   "source": [
    "import reverse_geocoder as rg"
   ]
  },
  {
   "cell_type": "code",
   "execution_count": null,
   "metadata": {},
   "outputs": [],
   "source": [
    "results = rg.search(coord)"
   ]
  },
  {
   "cell_type": "code",
   "execution_count": null,
   "metadata": {},
   "outputs": [],
   "source": [
    "print(results)"
   ]
  },
  {
   "cell_type": "code",
   "execution_count": null,
   "metadata": {},
   "outputs": [],
   "source": [
    "coord"
   ]
  },
  {
   "cell_type": "code",
   "execution_count": null,
   "metadata": {},
   "outputs": [],
   "source": [
    "print(coord)"
   ]
  },
  {
   "cell_type": "code",
   "execution_count": 5,
   "metadata": {},
   "outputs": [
    {
     "data": {
      "text/plain": [
       "(237480, 15)"
      ]
     },
     "execution_count": 5,
     "metadata": {},
     "output_type": "execute_result"
    }
   ],
   "source": [
    "tweets.shape"
   ]
  },
  {
   "cell_type": "code",
   "execution_count": 10,
   "metadata": {},
   "outputs": [
    {
     "name": "stdout",
     "output_type": "stream",
     "text": [
      "id                                                             237480\n",
      "id_str                                             730091163080896512\n",
      "user_location                                                     NaN\n",
      "user_bg_color                                                  FDF7D5\n",
      "retweet_count                                                       0\n",
      "user_name                                                    1230WSOK\n",
      "polarity                                                     0.136364\n",
      "created                                           2016-05-10T17:44:32\n",
      "geo                                                               NaN\n",
      "user_description                                                  NaN\n",
      "user_created                                      2009-11-11T20:20:09\n",
      "user_followers                                                     93\n",
      "coordinates                                                       NaN\n",
      "subjectivity                                                 0.454545\n",
      "text                New Poll: Trump Leads In Ohio, Tied With Hilla...\n",
      "Name: 237479, dtype: object\n"
     ]
    }
   ],
   "source": [
    "print(r)"
   ]
  },
  {
   "cell_type": "code",
   "execution_count": 23,
   "metadata": {},
   "outputs": [],
   "source": [
    "r = None\n",
    "for i,row in tweets.iterrows():\n",
    "    g = row[\"geo\"]\n",
    "    if(pd.isna(g) == False):\n",
    "        r = row\n",
    "    "
   ]
  },
  {
   "cell_type": "code",
   "execution_count": 24,
   "metadata": {},
   "outputs": [
    {
     "name": "stdout",
     "output_type": "stream",
     "text": [
      "id                                                             236356\n",
      "id_str                                             730090937507033089\n",
      "user_location                                                     UK \n",
      "user_bg_color                                                  C0DEED\n",
      "retweet_count                                                       0\n",
      "user_name                                             chris_underwood\n",
      "polarity                                                         -0.2\n",
      "created                                           2016-05-10T17:43:38\n",
      "geo                 {\"type\": \"Point\", \"coordinates\": [51.5107298, ...\n",
      "user_description    I blog, work on peacebuilding, open government...\n",
      "user_created                                      2009-02-06T23:38:59\n",
      "user_followers                                                   6586\n",
      "coordinates         {\"type\": \"Point\", \"coordinates\": [-0.2436715, ...\n",
      "subjectivity                                                      0.8\n",
      "text                Trump &amp; Duterte - Philippines leader is fa...\n",
      "Name: 236355, dtype: object\n"
     ]
    }
   ],
   "source": [
    "print(r)"
   ]
  },
  {
   "cell_type": "code",
   "execution_count": 18,
   "metadata": {},
   "outputs": [],
   "source": [
    "f = row[\"geo\"]"
   ]
  },
  {
   "cell_type": "code",
   "execution_count": 29,
   "metadata": {},
   "outputs": [
    {
     "name": "stdout",
     "output_type": "stream",
     "text": [
      "{\"type\": \"Point\", \"coordinates\": [51.5107298, -0.2436715]}\n"
     ]
    }
   ],
   "source": [
    "g = r[\"\"]\n",
    "print(g)"
   ]
  },
  {
   "cell_type": "code",
   "execution_count": 44,
   "metadata": {},
   "outputs": [
    {
     "name": "stdout",
     "output_type": "stream",
     "text": [
      "UK \n"
     ]
    },
    {
     "data": {
      "text/plain": [
       "'UK'"
      ]
     },
     "execution_count": 44,
     "metadata": {},
     "output_type": "execute_result"
    }
   ],
   "source": [
    "l = r[\"user_location\"]\n",
    "print(l)\n",
    "from geopy.geocoders import Nominatim\n",
    "geolocator = Nominatim(user_agent=\"specify_your_app_name_here\")\n",
    "loca = geolocator.geocode(l)\n",
    "loca.address"
   ]
  },
  {
   "cell_type": "code",
   "execution_count": 21,
   "metadata": {},
   "outputs": [],
   "source": [
    "import numpy as np"
   ]
  },
  {
   "cell_type": "code",
   "execution_count": 30,
   "metadata": {},
   "outputs": [],
   "source": [
    "coord = getCoordinates(g)"
   ]
  },
  {
   "cell_type": "code",
   "execution_count": 31,
   "metadata": {},
   "outputs": [
    {
     "name": "stdout",
     "output_type": "stream",
     "text": [
      "[51.5107298, -0.2436715]\n"
     ]
    }
   ],
   "source": [
    "print(coord)"
   ]
  },
  {
   "cell_type": "code",
   "execution_count": 32,
   "metadata": {},
   "outputs": [],
   "source": [
    "import reverse_geocoder as rg"
   ]
  },
  {
   "cell_type": "code",
   "execution_count": 33,
   "metadata": {},
   "outputs": [
    {
     "name": "stdout",
     "output_type": "stream",
     "text": [
      "Loading formatted geocoded file...\n"
     ]
    }
   ],
   "source": [
    "results = rg.search(coord)"
   ]
  },
  {
   "cell_type": "code",
   "execution_count": 50,
   "metadata": {},
   "outputs": [
    {
     "data": {
      "text/plain": [
       "31.7600372"
      ]
     },
     "execution_count": 50,
     "metadata": {},
     "output_type": "execute_result"
    }
   ],
   "source": [
    "geolocator.geocode('El Paso, TX').latitude"
   ]
  },
  {
   "cell_type": "code",
   "execution_count": 36,
   "metadata": {},
   "outputs": [],
   "source": [
    "location = results"
   ]
  },
  {
   "cell_type": "code",
   "execution_count": 37,
   "metadata": {},
   "outputs": [
    {
     "data": {
      "text/plain": [
       "list"
      ]
     },
     "execution_count": 37,
     "metadata": {},
     "output_type": "execute_result"
    }
   ],
   "source": [
    "type(location)"
   ]
  },
  {
   "cell_type": "code",
   "execution_count": 38,
   "metadata": {},
   "outputs": [
    {
     "data": {
      "text/plain": [
       "'England'"
      ]
     },
     "execution_count": 38,
     "metadata": {},
     "output_type": "execute_result"
    }
   ],
   "source": [
    "location[0]['admin1']"
   ]
  },
  {
   "cell_type": "code",
   "execution_count": null,
   "metadata": {},
   "outputs": [],
   "source": []
  }
 ],
 "metadata": {
  "kernelspec": {
   "display_name": "Python 3",
   "language": "python",
   "name": "python3"
  },
  "language_info": {
   "codemirror_mode": {
    "name": "ipython",
    "version": 3
   },
   "file_extension": ".py",
   "mimetype": "text/x-python",
   "name": "python",
   "nbconvert_exporter": "python",
   "pygments_lexer": "ipython3",
   "version": "3.6.7"
  }
 },
 "nbformat": 4,
 "nbformat_minor": 2
}
