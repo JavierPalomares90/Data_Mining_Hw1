{
 "cells": [
  {
   "cell_type": "markdown",
   "metadata": {},
   "source": [
    "# Javier Palomares Homework 1 b\n",
    "\n",
    "## 1. Correlations\n",
    "\n",
    "* When given a data matrix, an easy way to tell if any two columns are correlated is to look at a scatter plot of each column against each other column. For a warm up, do this: Look at the data in DF1 in HW1b Data.zip."
   ]
  },
  {
   "cell_type": "code",
   "execution_count": 21,
   "metadata": {},
   "outputs": [
    {
     "name": "stdout",
     "output_type": "stream",
     "text": [
      "<class 'pandas.core.frame.DataFrame'>\n",
      "Int64Index: 10000 entries, 0 to 9999\n",
      "Data columns (total 4 columns):\n",
      "0    10000 non-null float64\n",
      "1    10000 non-null float64\n",
      "2    10000 non-null float64\n",
      "3    10000 non-null float64\n",
      "dtypes: float64(4)\n",
      "memory usage: 390.6 KB\n"
     ]
    },
    {
     "data": {
      "text/html": [
       "<div>\n",
       "<style scoped>\n",
       "    .dataframe tbody tr th:only-of-type {\n",
       "        vertical-align: middle;\n",
       "    }\n",
       "\n",
       "    .dataframe tbody tr th {\n",
       "        vertical-align: top;\n",
       "    }\n",
       "\n",
       "    .dataframe thead th {\n",
       "        text-align: right;\n",
       "    }\n",
       "</style>\n",
       "<table border=\"1\" class=\"dataframe\">\n",
       "  <thead>\n",
       "    <tr style=\"text-align: right;\">\n",
       "      <th></th>\n",
       "      <th>0</th>\n",
       "      <th>1</th>\n",
       "      <th>2</th>\n",
       "      <th>3</th>\n",
       "    </tr>\n",
       "  </thead>\n",
       "  <tbody>\n",
       "    <tr>\n",
       "      <th>count</th>\n",
       "      <td>10000.000000</td>\n",
       "      <td>10000.000000</td>\n",
       "      <td>10000.000000</td>\n",
       "      <td>10000.000000</td>\n",
       "    </tr>\n",
       "    <tr>\n",
       "      <th>mean</th>\n",
       "      <td>0.007704</td>\n",
       "      <td>0.009313</td>\n",
       "      <td>0.007586</td>\n",
       "      <td>-0.008455</td>\n",
       "    </tr>\n",
       "    <tr>\n",
       "      <th>std</th>\n",
       "      <td>1.000779</td>\n",
       "      <td>1.002686</td>\n",
       "      <td>1.000794</td>\n",
       "      <td>1.002581</td>\n",
       "    </tr>\n",
       "    <tr>\n",
       "      <th>min</th>\n",
       "      <td>-3.471566</td>\n",
       "      <td>-4.056024</td>\n",
       "      <td>-3.524182</td>\n",
       "      <td>-3.930215</td>\n",
       "    </tr>\n",
       "    <tr>\n",
       "      <th>25%</th>\n",
       "      <td>-0.663449</td>\n",
       "      <td>-0.663886</td>\n",
       "      <td>-0.666489</td>\n",
       "      <td>-0.697856</td>\n",
       "    </tr>\n",
       "    <tr>\n",
       "      <th>50%</th>\n",
       "      <td>0.017736</td>\n",
       "      <td>0.009027</td>\n",
       "      <td>0.012372</td>\n",
       "      <td>-0.007986</td>\n",
       "    </tr>\n",
       "    <tr>\n",
       "      <th>75%</th>\n",
       "      <td>0.667565</td>\n",
       "      <td>0.695943</td>\n",
       "      <td>0.672933</td>\n",
       "      <td>0.668582</td>\n",
       "    </tr>\n",
       "    <tr>\n",
       "      <th>max</th>\n",
       "      <td>3.854101</td>\n",
       "      <td>3.908736</td>\n",
       "      <td>3.608846</td>\n",
       "      <td>3.985592</td>\n",
       "    </tr>\n",
       "  </tbody>\n",
       "</table>\n",
       "</div>"
      ],
      "text/plain": [
       "                  0             1             2             3\n",
       "count  10000.000000  10000.000000  10000.000000  10000.000000\n",
       "mean       0.007704      0.009313      0.007586     -0.008455\n",
       "std        1.000779      1.002686      1.000794      1.002581\n",
       "min       -3.471566     -4.056024     -3.524182     -3.930215\n",
       "25%       -0.663449     -0.663886     -0.666489     -0.697856\n",
       "50%        0.017736      0.009027      0.012372     -0.007986\n",
       "75%        0.667565      0.695943      0.672933      0.668582\n",
       "max        3.854101      3.908736      3.608846      3.985592"
      ]
     },
     "execution_count": 21,
     "metadata": {},
     "output_type": "execute_result"
    }
   ],
   "source": [
    "df1FilePath=\"./DF1\"\n",
    "df2FilePath=\"./DF2\"\n",
    "\n",
    "import pandas as pd\n",
    "df1 = pd.read_csv(df1FilePath,index_col=0)\n",
    "df2 = pd.read_csv(df2FilePath,index_col=0)\n",
    "df1.info()\n",
    "df1.describe()"
   ]
  },
  {
   "cell_type": "markdown",
   "metadata": {},
   "source": [
    " Which columns are (pairwise) correlated? Figure out how to do this with Pandas, and also how to do this with Seaborn. "
   ]
  },
  {
   "cell_type": "code",
   "execution_count": 37,
   "metadata": {},
   "outputs": [
    {
     "data": {
      "text/html": [
       "<div>\n",
       "<style scoped>\n",
       "    .dataframe tbody tr th:only-of-type {\n",
       "        vertical-align: middle;\n",
       "    }\n",
       "\n",
       "    .dataframe tbody tr th {\n",
       "        vertical-align: top;\n",
       "    }\n",
       "\n",
       "    .dataframe thead th {\n",
       "        text-align: right;\n",
       "    }\n",
       "</style>\n",
       "<table border=\"1\" class=\"dataframe\">\n",
       "  <thead>\n",
       "    <tr style=\"text-align: right;\">\n",
       "      <th></th>\n",
       "      <th>0</th>\n",
       "      <th>1</th>\n",
       "      <th>2</th>\n",
       "      <th>3</th>\n",
       "    </tr>\n",
       "  </thead>\n",
       "  <tbody>\n",
       "    <tr>\n",
       "      <th>0</th>\n",
       "      <td>1.000000</td>\n",
       "      <td>-0.003998</td>\n",
       "      <td>0.990066</td>\n",
       "      <td>0.004111</td>\n",
       "    </tr>\n",
       "    <tr>\n",
       "      <th>1</th>\n",
       "      <td>-0.003998</td>\n",
       "      <td>1.000000</td>\n",
       "      <td>-0.004085</td>\n",
       "      <td>-0.990235</td>\n",
       "    </tr>\n",
       "    <tr>\n",
       "      <th>2</th>\n",
       "      <td>0.990066</td>\n",
       "      <td>-0.004085</td>\n",
       "      <td>1.000000</td>\n",
       "      <td>0.004067</td>\n",
       "    </tr>\n",
       "    <tr>\n",
       "      <th>3</th>\n",
       "      <td>0.004111</td>\n",
       "      <td>-0.990235</td>\n",
       "      <td>0.004067</td>\n",
       "      <td>1.000000</td>\n",
       "    </tr>\n",
       "  </tbody>\n",
       "</table>\n",
       "</div>"
      ],
      "text/plain": [
       "          0         1         2         3\n",
       "0  1.000000 -0.003998  0.990066  0.004111\n",
       "1 -0.003998  1.000000 -0.004085 -0.990235\n",
       "2  0.990066 -0.004085  1.000000  0.004067\n",
       "3  0.004111 -0.990235  0.004067  1.000000"
      ]
     },
     "execution_count": 37,
     "metadata": {},
     "output_type": "execute_result"
    }
   ],
   "source": [
    "df1.corr()"
   ]
  },
  {
   "cell_type": "markdown",
   "metadata": {},
   "source": [
    "Using pandas, we see that columns at position 0 and position 2 are correlated, and columns at position 1 and 3 are negatively correlated"
   ]
  },
  {
   "cell_type": "code",
   "execution_count": 38,
   "metadata": {
    "scrolled": true
   },
   "outputs": [
    {
     "data": {
      "text/plain": [
       "<matplotlib.axes._subplots.AxesSubplot at 0x7f64166a2a58>"
      ]
     },
     "execution_count": 38,
     "metadata": {},
     "output_type": "execute_result"
    },
    {
     "data": {
      "image/png": "[encoded data removed]",
      "text/plain": [
       "<Figure size 432x288 with 2 Axes>"
      ]
     },
     "metadata": {},
     "output_type": "display_data"
    }
   ],
   "source": [
    "import seaborn as sns\n",
    "import numpy as np\n",
    "import matplotlib.pyplot as plt\n",
    "sns.set(style='white')\n",
    "corr1 = df1.corr()\n",
    "\n",
    "# Generate a mask for the upper triangle\n",
    "mask = np.zeros_like(corr1, dtype=np.bool)\n",
    "mask[np.triu_indices_from(mask)] = True\n",
    "# Set up the matplotlib figure\n",
    "f, ax = plt.subplots();\n",
    "\n",
    "# Generate a custom diverging colorma# Generate a custom diverging colormap\n",
    "cmap = sns.diverging_palette(220, 10, as_cmap=True)\n",
    "# Draw the heatmap with the mask and correct aspect ratio\n",
    "sns.heatmap(corr1, mask=mask, cmap=cmap, vmax=1.0, center=0,\n",
    "            square=True, linewidths=.5, cbar_kws={\"shrink\": .5})"
   ]
  },
  {
   "cell_type": "markdown",
   "metadata": {},
   "source": [
    "Using seaborn, I can see the correlation between columns 0 and 2, and the negative correlation between columns 1 and 3"
   ]
  },
  {
   "cell_type": "markdown",
   "metadata": {},
   "source": [
    "* Compute the covariance matrix of the data. Write the explicit expression for what this\n",
    "is, and then use any command you like (e.g., np.cov) to compute the 4 × 4 matrix.\n",
    "Explain why the numbers that you get fit with the plots you got."
   ]
  },
  {
   "cell_type": "markdown",
   "metadata": {},
   "source": [
    "Let DF1 have size $n \\times n$.\n",
    "Let $x_i$ be the i-th column of DF1 and $x_i[j]$ be the j-th component of $x_i$.  \n",
    "Note that columns of DF1 have $n$ components.\n",
    "Let $\\mu_i$ be the mean of $x_i$ and let $\\sigma^2$ be the variance of $x_i$.  \n",
    "Then the $i,j$ entry of the covariance matrix is given by:\n",
    "\n",
    "$cov_{ij} =  \\frac{1}{n} \\sum_{k=1}^{n} (x_i[k] - \\mu_i)(x_j[k] - \\mu_j) $"
   ]
  },
  {
   "cell_type": "code",
   "execution_count": 39,
   "metadata": {},
   "outputs": [
    {
     "data": {
      "text/html": [
       "<div>\n",
       "<style scoped>\n",
       "    .dataframe tbody tr th:only-of-type {\n",
       "        vertical-align: middle;\n",
       "    }\n",
       "\n",
       "    .dataframe tbody tr th {\n",
       "        vertical-align: top;\n",
       "    }\n",
       "\n",
       "    .dataframe thead th {\n",
       "        text-align: right;\n",
       "    }\n",
       "</style>\n",
       "<table border=\"1\" class=\"dataframe\">\n",
       "  <thead>\n",
       "    <tr style=\"text-align: right;\">\n",
       "      <th></th>\n",
       "      <th>0</th>\n",
       "      <th>1</th>\n",
       "      <th>2</th>\n",
       "      <th>3</th>\n",
       "    </tr>\n",
       "  </thead>\n",
       "  <tbody>\n",
       "    <tr>\n",
       "      <th>0</th>\n",
       "      <td>1.001558</td>\n",
       "      <td>-0.004012</td>\n",
       "      <td>0.991624</td>\n",
       "      <td>0.004125</td>\n",
       "    </tr>\n",
       "    <tr>\n",
       "      <th>1</th>\n",
       "      <td>-0.004012</td>\n",
       "      <td>1.005378</td>\n",
       "      <td>-0.004099</td>\n",
       "      <td>-0.995457</td>\n",
       "    </tr>\n",
       "    <tr>\n",
       "      <th>2</th>\n",
       "      <td>0.991624</td>\n",
       "      <td>-0.004099</td>\n",
       "      <td>1.001589</td>\n",
       "      <td>0.004081</td>\n",
       "    </tr>\n",
       "    <tr>\n",
       "      <th>3</th>\n",
       "      <td>0.004125</td>\n",
       "      <td>-0.995457</td>\n",
       "      <td>0.004081</td>\n",
       "      <td>1.005168</td>\n",
       "    </tr>\n",
       "  </tbody>\n",
       "</table>\n",
       "</div>"
      ],
      "text/plain": [
       "          0         1         2         3\n",
       "0  1.001558 -0.004012  0.991624  0.004125\n",
       "1 -0.004012  1.005378 -0.004099 -0.995457\n",
       "2  0.991624 -0.004099  1.001589  0.004081\n",
       "3  0.004125 -0.995457  0.004081  1.005168"
      ]
     },
     "execution_count": 39,
     "metadata": {},
     "output_type": "execute_result"
    }
   ],
   "source": [
    "df1.cov()"
   ]
  },
  {
   "cell_type": "markdown",
   "metadata": {},
   "source": [
    "The values in the covariance matrix are consistent with the values in the correlation as they differ by a normalization factor."
   ]
  },
  {
   "cell_type": "markdown",
   "metadata": {},
   "source": [
    "* The above problem in reverse. Generate a zero-mean multivariate Gaussian random\n",
    "variable in 3 dimensions, Z = (X1, X2, X3) so that (X1, X2) and (X1, X3) are uncorrelated, but (X2, X3) are correlated. Specifically: choose a covariance matrix that has the\n",
    "above correlations structure, and write this down. Then find a way to generate samples\n",
    "from this Gaussian. Choose one of the non-zero covariance terms (Cij , if C denotes\n",
    "your covariance matrix) and plot it vs the estimated covariance term, as the number of\n",
    "samples you use scales. The goal is to get a visual representation of how the empirical\n",
    "covariance converges to the true (or family) covariance."
   ]
  },
  {
   "cell_type": "code",
   "execution_count": 79,
   "metadata": {},
   "outputs": [],
   "source": [
    "def estimateGaussianCov(mean,cov,numSamples,i,j):\n",
    "    x = np.random.multivariate_normal(mean, cov,numSamples).T\n",
    "    estCov = np.cov(x)\n",
    "    c_ij = estCov[i][j]\n",
    "    error = c_ij - cov[i][j]\n",
    "    return error\n",
    "\n",
    "mean = [0,0,0]\n",
    "cov = [[1,0,0],[0,1,.99],[0,.99,1]]\n",
    "#c_1,2 is non zero\n",
    "i = 1\n",
    "j = 2\n",
    "numSamples = list(range(10,10000000,100000))\n",
    "err = np.zeros(len(numSamples))\n",
    "for k in range(len(numSamples)):\n",
    "    n = numSamples[k]\n",
    "    err[k] = estimateGaussianCov(mean,cov,n,i,j)"
   ]
  },
  {
   "cell_type": "code",
   "execution_count": 85,
   "metadata": {},
   "outputs": [
    {
     "data": {
      "image/png": "[encoded data removed]",
      "text/plain": [
       "<Figure size 432x288 with 1 Axes>"
      ]
     },
     "metadata": {},
     "output_type": "display_data"
    }
   ],
   "source": [
    "err = abs(err)\n",
    "plt.semilogy(numSamples,err)\n",
    "plt.title(\"True covariance minus estimated\")\n",
    "plt.grid(True)\n",
    "plt.xlabel(\"Number of samples\")\n",
    "plt.ylabel(\"Absolute value of error\")\n",
    "plt.show()"
   ]
  },
  {
   "cell_type": "markdown",
   "metadata": {},
   "source": [
    "## 2. Outliers\n",
    "Consider the two-dimensional data in DF2 in HW1b Data.zip. Look at a scatter\n",
    "plot of the data. It contains two points that look like potential outliers. Which one is “more”\n",
    "outlying? Propose a transformation of the data that makes it clear that the point at (−1, 1)\n",
    "is more outlying than the point at (5.5, 5), even though the latter point is“farther away”\n",
    "from the nearest points. Plot the data again after performing this transformation. Provide\n",
    "discussion as appropriate to justify your choice of transformation. Hint: if $y$ comes from a\n",
    "standard Gaussian in two dimensions (i.e., with covariance equal to the two by two identity\n",
    "matrix), and\n",
    "$$\n",
    "Q=\n",
    "\\begin{pmatrix}\n",
    "2 & \\frac{1}{2}\\\\\n",
    "\\frac{1}{2} & 2\n",
    "\\end{pmatrix}\n",
    "$$\n",
    "what is the covariance matrix of the random variable $z = Qy$?If you are given $z$, how would\n",
    "you create a random Gaussian vector with covariance equal to the identity, using z?\n"
   ]
  },
  {
   "cell_type": "code",
   "execution_count": 34,
   "metadata": {},
   "outputs": [
    {
     "name": "stdout",
     "output_type": "stream",
     "text": [
      "<class 'pandas.core.frame.DataFrame'>\n",
      "Int64Index: 10000 entries, 0 to 9999\n",
      "Data columns (total 2 columns):\n",
      "0    10000 non-null float64\n",
      "1    10000 non-null float64\n",
      "dtypes: float64(2)\n",
      "memory usage: 234.4 KB\n"
     ]
    },
    {
     "data": {
      "text/html": [
       "<div>\n",
       "<style scoped>\n",
       "    .dataframe tbody tr th:only-of-type {\n",
       "        vertical-align: middle;\n",
       "    }\n",
       "\n",
       "    .dataframe tbody tr th {\n",
       "        vertical-align: top;\n",
       "    }\n",
       "\n",
       "    .dataframe thead th {\n",
       "        text-align: right;\n",
       "    }\n",
       "</style>\n",
       "<table border=\"1\" class=\"dataframe\">\n",
       "  <thead>\n",
       "    <tr style=\"text-align: right;\">\n",
       "      <th></th>\n",
       "      <th>0</th>\n",
       "      <th>1</th>\n",
       "    </tr>\n",
       "  </thead>\n",
       "  <tbody>\n",
       "    <tr>\n",
       "      <th>count</th>\n",
       "      <td>10000.000000</td>\n",
       "      <td>10000.000000</td>\n",
       "    </tr>\n",
       "    <tr>\n",
       "      <th>mean</th>\n",
       "      <td>0.008139</td>\n",
       "      <td>0.008169</td>\n",
       "    </tr>\n",
       "    <tr>\n",
       "      <th>std</th>\n",
       "      <td>1.002321</td>\n",
       "      <td>1.002078</td>\n",
       "    </tr>\n",
       "    <tr>\n",
       "      <th>min</th>\n",
       "      <td>-3.471566</td>\n",
       "      <td>-3.524182</td>\n",
       "    </tr>\n",
       "    <tr>\n",
       "      <th>25%</th>\n",
       "      <td>-0.663686</td>\n",
       "      <td>-0.666489</td>\n",
       "    </tr>\n",
       "    <tr>\n",
       "      <th>50%</th>\n",
       "      <td>0.017736</td>\n",
       "      <td>0.012527</td>\n",
       "    </tr>\n",
       "    <tr>\n",
       "      <th>75%</th>\n",
       "      <td>0.667909</td>\n",
       "      <td>0.673805</td>\n",
       "    </tr>\n",
       "    <tr>\n",
       "      <th>max</th>\n",
       "      <td>5.500000</td>\n",
       "      <td>5.000000</td>\n",
       "    </tr>\n",
       "  </tbody>\n",
       "</table>\n",
       "</div>"
      ],
      "text/plain": [
       "                  0             1\n",
       "count  10000.000000  10000.000000\n",
       "mean       0.008139      0.008169\n",
       "std        1.002321      1.002078\n",
       "min       -3.471566     -3.524182\n",
       "25%       -0.663686     -0.666489\n",
       "50%        0.017736      0.012527\n",
       "75%        0.667909      0.673805\n",
       "max        5.500000      5.000000"
      ]
     },
     "execution_count": 34,
     "metadata": {},
     "output_type": "execute_result"
    }
   ],
   "source": [
    "df2.info()\n",
    "df2.describe()"
   ]
  },
  {
   "cell_type": "code",
   "execution_count": 46,
   "metadata": {},
   "outputs": [
    {
     "data": {
      "text/plain": [
       "<matplotlib.axes._subplots.AxesSubplot at 0x7f6416731080>"
      ]
     },
     "execution_count": 46,
     "metadata": {},
     "output_type": "execute_result"
    },
    {
     "data": {
      "image/png": "[encoded data removed]",
      "text/plain": [
       "<Figure size 432x288 with 1 Axes>"
      ]
     },
     "metadata": {},
     "output_type": "display_data"
    }
   ],
   "source": [
    "df2.plot.scatter(x=0,y=1,c='DarkBlue')"
   ]
  },
  {
   "cell_type": "code",
   "execution_count": 104,
   "metadata": {},
   "outputs": [],
   "source": [
    "Q = [[2,1/2],[1/2,2]]\n",
    "Q_inv = np.linalg.inv(Q)"
   ]
  },
  {
   "cell_type": "code",
   "execution_count": 110,
   "metadata": {},
   "outputs": [],
   "source": [
    "test = np.dot(Q_inv,df2.T).T"
   ]
  },
  {
   "cell_type": "code",
   "execution_count": 111,
   "metadata": {},
   "outputs": [
    {
     "data": {
      "image/png": "[encoded data removed]",
      "text/plain": [
       "<Figure size 432x288 with 1 Axes>"
      ]
     },
     "metadata": {},
     "output_type": "display_data"
    }
   ],
   "source": [
    "plt.scatter(test[:,0],test[:,1])\n",
    "plt.show()"
   ]
  },
  {
   "cell_type": "code",
   "execution_count": 102,
   "metadata": {},
   "outputs": [
    {
     "data": {
      "text/plain": [
       "(10000, 2)"
      ]
     },
     "execution_count": 102,
     "metadata": {},
     "output_type": "execute_result"
    }
   ],
   "source": [
    "test.shape"
   ]
  },
  {
   "cell_type": "markdown",
   "metadata": {},
   "source": [
    "## 3. Even More Standard Error \n",
    "(This is to be completed only after you’ve completed the\n",
    "last written exercise below). In one of the written exercises below, you derive an expression\n",
    "1for what is called the Standard Error: where $\\beta$ denotes the “truth,” $\\hat{\\beta}$ denotes the value we\n",
    "compute using least squares linear regression, and $Z$ and $e$ are as in the exercise below, you\n",
    "find:\n",
    "$\\hat{\\beta} − \\beta = Ze$.\n",
    "If we know the distribution of the noise (the distribution generating the noise vectors, e i ),\n",
    "then we know the distribution for the error, ( $\\hat{\\beta} − \\beta$). This allows us to answer the question\n",
    "given in class: if we solve a regression and obtain value $\\hat{\\beta}$, how can we tell if it is statistically\n",
    "significant? The answer is: we compare the size of β̂ to the spread introduced by the noise\n",
    "(i.e., the standard error), and we ask: what is the likelihood that the true $\\beta = 0$, and what\n",
    "we observed was purely due to the noise.\n",
    "If the noise is Gaussian (normal), i.e., $e_i ∼ N(0, \\sigma^2 )$, and if the values of the $x_i$ are normalized,\n",
    "then we expect error of the size $\\frac{\\sigma}{\\sqrt{n}}$, as this is roughly the standard deviation of the\n",
    "expression for the error that you derive above. This means: if you have twice the data points,\n",
    "you should expect the error to be reduced by about 1.4 (the formula says that the standard\n",
    "deviation of the error would decrease by a factor of $1/\\sqrt{2}$).\n",
    "Compute this empirically, as follows: We will generate data for a regression problem, solve\n",
    "it, and see what the error is: Generate data as I did in the example from class: \n",
    "$x_i ∼ N (0, 1)$,\n",
    "$e i ∼ N (0, 1)$. Generate $y$ by $y_i = \\beta_0 + x_i\\beta + e_i$ , where $\\beta_0 = −3$ and $\\beta = 0$. Note that\n",
    "since  $\\beta = 0$, this means that y and x are unrelated! The question we are exploring here is as\n",
    "follows: when we solve a regression problem, we are not going to find  $\\hat{\\beta} = 0$ - we will find\n",
    "that $\\hat{\\beta}$ takes some other values, hopefully close to zero. How do we know if the value of $\\hat{\\beta}$ we\n",
    "get is statistically meaningful?"
   ]
  },
  {
   "cell_type": "code",
   "execution_count": null,
   "metadata": {},
   "outputs": [],
   "source": []
  },
  {
   "cell_type": "markdown",
   "metadata": {},
   "source": [
    "* By creating fresh data and each time computing $\\hat{\\beta}$ and recording $\\hat{\\beta}$ − $\\beta$, compute the\n",
    "empirical standard deviation of the error for n = 150 (the number we used in class). In\n",
    "class, in the exercise where I tried to find a linear regression of y vs. noise, we found\n",
    "$\\hat{\\beta}= −0.15$. Given your empirical computation of the standard deviation of the error,\n",
    "how significant is the value −0.15?"
   ]
  },
  {
   "cell_type": "code",
   "execution_count": null,
   "metadata": {},
   "outputs": [],
   "source": []
  },
  {
   "cell_type": "markdown",
   "metadata": {},
   "source": [
    "* Now repeat the above experiment for different values of n. Plot these values, and on the\n",
    "same plot, plot $1 / \\sqrt{n}$. How is the fit?"
   ]
  },
  {
   "cell_type": "code",
   "execution_count": null,
   "metadata": {},
   "outputs": [],
   "source": []
  },
  {
   "cell_type": "markdown",
   "metadata": {},
   "source": [
    "## Names and Frequencies\n",
    "The goal of this exercise is for you to get more experience with\n",
    "Pandas, and to get a chance to explore a cool data set. Download the file Names.zip from\n",
    "Canvas. This contains the frequency of all names that appeared more than 5 times on a social\n",
    "security application from 1880 through 2015"
   ]
  },
  {
   "cell_type": "markdown",
   "metadata": {},
   "source": [
    "* Write a program that on input k and XXXX, returns the top k names from year\n",
    "XXXX."
   ]
  },
  {
   "cell_type": "code",
   "execution_count": 46,
   "metadata": {
    "pixiedust": {
     "displayParams": {}
    }
   },
   "outputs": [],
   "source": [
    "import pandas as pd\n",
    "def topKNames(k,year):\n",
    "    # read the file containing the name frequency for the year\n",
    "    filepath = \"./Names/yob{}.txt\".format(year)\n",
    "    df = pd.read_csv(filepath,header=None)\n",
    "    # first column of the dataframe is the name, followed by the gender and last by the frequency\n",
    "    df.columns = ['name','gender','frequency']\n",
    "    # sort the dataframe by the frequency in descending order\n",
    "    df= df.sort_values(by='frequency',ascending=False)\n",
    "    # return the name of the  first k rows of the data\n",
    "    topKNames = df.iloc[0:k,0]\n",
    "    return topKNames.to_list()"
   ]
  },
  {
   "cell_type": "code",
   "execution_count": 62,
   "metadata": {},
   "outputs": [
    {
     "name": "stdout",
     "output_type": "stream",
     "text": [
      "['Michael', 'Christopher', 'Jessica', 'Ashley', 'Matthew', 'Joshua', 'Brittany']\n"
     ]
    }
   ],
   "source": [
    "print(topKNames(7,1990))"
   ]
  },
  {
   "cell_type": "markdown",
   "metadata": {},
   "source": [
    "* Write a program that on input Name returns the frequency for men and women of the\n",
    "name $Name$."
   ]
  },
  {
   "cell_type": "code",
   "execution_count": 101,
   "metadata": {},
   "outputs": [],
   "source": [
    "# find the frequency of a name in a year for men and women\n",
    "def freqMFNameByYear(name,year):\n",
    "    # read the file containing the name frequency for the year\n",
    "    filepath = \"./Names/yob{}.txt\".format(year)\n",
    "    df = pd.read_csv(filepath,header=None)\n",
    "    # first column of the dataframe is the name, followed by the gender and last by the frequency\n",
    "    df.columns = ['name','gender','frequency']\n",
    "    # find the rows for the give name using case insensitive comparison\n",
    "    rows = df.loc[df['name'].str.lower() == name.lower()]\n",
    "    # iterate over the rows\n",
    "    menFrequency = 0\n",
    "    womenFrequency = 0\n",
    "    for index,row in rows.iterrows():\n",
    "        if(row['gender'].lower() == 'm'):\n",
    "            menFrequency += row['frequency']\n",
    "        elif(row['gender'].lower() == 'f'):\n",
    "            womenFrequency += row['frequency']\n",
    "    return menFrequency,womenFrequency"
   ]
  },
  {
   "cell_type": "code",
   "execution_count": 105,
   "metadata": {},
   "outputs": [
    {
     "name": "stdout",
     "output_type": "stream",
     "text": [
      "239 men were named Ashley in 1990. 45553 women were named Ashley in 1990\n"
     ]
    }
   ],
   "source": [
    "men,women = freqMFNameByYear(\"Ashley\",1990)\n",
    "print(\"{} men were named Ashley in 1990. {} women were named Ashley in 1990\".format(men,women))"
   ]
  },
  {
   "cell_type": "code",
   "execution_count": null,
   "metadata": {},
   "outputs": [],
   "source": [
    "df.describe"
   ]
  }
 ],
 "metadata": {
  "kernelspec": {
   "display_name": "Python 3",
   "language": "python",
   "name": "python3"
  },
  "language_info": {
   "codemirror_mode": {
    "name": "ipython",
    "version": 3
   },
   "file_extension": ".py",
   "mimetype": "text/x-python",
   "name": "python",
   "nbconvert_exporter": "python",
   "pygments_lexer": "ipython3",
   "version": "3.6.7"
  }
 },
 "nbformat": 4,
 "nbformat_minor": 2
}
